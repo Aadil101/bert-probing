{
 "cells": [
  {
   "cell_type": "code",
   "execution_count": 1,
   "id": "c6006e7f",
   "metadata": {},
   "outputs": [
    {
     "name": "stderr",
     "output_type": "stream",
     "text": [
      "/home/aadil/anaconda3/envs/venv3.8/lib/python3.8/site-packages/apex/pyprof/__init__.py:5: FutureWarning: pyprof will be removed by the end of June, 2022\n",
      "  warnings.warn(\"pyprof will be removed by the end of June, 2022\", FutureWarning)\n"
     ]
    }
   ],
   "source": [
    "# coding=utf-8\n",
    "# Copyright (c) Microsoft. All rights reserved.\n",
    "import argparse\n",
    "from pathlib import Path\n",
    "import os\n",
    "\n",
    "import torch\n",
    "from torch.utils.data import DataLoader\n",
    "torch.cuda.empty_cache()\n",
    "from pretrained_models import *\n",
    "\n",
    "from experiments.exp_def import TaskDefs, Experiment\n",
    "from data_utils.log_wrapper import create_logger\n",
    "from data_utils.task_def import EncoderModelType, TaskType\n",
    "from data_utils.utils import set_environment\n",
    "from data_utils.metrics import Metric\n",
    "\n",
    "from mt_dnn.model import MTDNNModel\n",
    "from mt_dnn.batcher import (\n",
    "    SingleTaskDataset,\n",
    "    MultiTaskDataset,\n",
    "    Collater,\n",
    "    MultiTaskBatchSampler\n",
    ")\n",
    "from train_utils import (\n",
    "    dump_opt,\n",
    "    print_message,\n",
    "    save_checkpoint\n",
    ")\n",
    "from gradient_probing import prediction_gradient\n",
    "import wandb\n",
    "\n",
    "from evaluate import get_metric, build_dataset, evaluate_model_against_multiple_datasets\n",
    "\n",
    "import warnings\n",
    "\n",
    "import time"
   ]
  },
  {
   "cell_type": "code",
   "execution_count": 2,
   "id": "fc67e087",
   "metadata": {},
   "outputs": [],
   "source": [
    "def model_config(parser):\n",
    "    # SET THESE\n",
    "    ##############\n",
    "    parser.add_argument('--multi_gpu_on', action='store_true')\n",
    "    parser.add_argument('--devices', nargs='+')\n",
    "\n",
    "    # head probing\n",
    "    parser.add_argument('--head_probe', action='store_true')\n",
    "    parser.add_argument('--head_probe_layer', type=int)\n",
    "    parser.add_argument('--head_probe_idx', type=int)\n",
    "    parser.add_argument('--head_probe_n_classes', type=int)\n",
    "    parser.add_argument('--head_probe_sequence', action='store_true')\n",
    "\n",
    "    # model probing\n",
    "    parser.add_argument('--model_probe', action='store_true')\n",
    "    parser.add_argument('--model_probe_n_classes', type=int)\n",
    "    parser.add_argument('--model_probe_sequence', action='store_true')\n",
    "\n",
    "    # gradient probing\n",
    "    parser.add_argument('--gradient_probe', action='store_true')\n",
    "\n",
    "    # finetuning after joint modeling\n",
    "    parser.add_argument('--jm_finetune', action='store_true')\n",
    "    parser.add_argument('--jm_finetune_new', action='store_true') # if task does not exist in 1st stage finetuning\n",
    "    parser.add_argument('--jm_task_id', type=int, default=0) # if task exists from 1st stage finetuning\n",
    "    ##############\n",
    "\n",
    "    # DON\"T NEED THESE\n",
    "    ##############\n",
    "    parser.add_argument('--update_bert_opt', default=0, type=int)\n",
    "    parser.add_argument('--mem_cum_type', type=str, default='simple',\n",
    "                        help='bilinear/simple/defualt')\n",
    "    parser.add_argument('--answer_num_turn', type=int, default=5)\n",
    "    parser.add_argument('--answer_mem_drop_p', type=float, default=0.1)\n",
    "    parser.add_argument('--answer_att_hidden_size', type=int, default=128)\n",
    "    parser.add_argument('--answer_att_type', type=str, default='bilinear',\n",
    "                        help='bilinear/simple/defualt')\n",
    "    parser.add_argument('--answer_rnn_type', type=str, default='gru',\n",
    "                        help='rnn/gru/lstm')\n",
    "    parser.add_argument('--answer_sum_att_type', type=str, default='bilinear',\n",
    "                        help='bilinear/simple/defualt')\n",
    "    parser.add_argument('--answer_merge_opt', type=int, default=1)\n",
    "    parser.add_argument('--answer_mem_type', type=int, default=1)\n",
    "    parser.add_argument('--max_answer_len', type=int, default=10)\n",
    "    parser.add_argument('--answer_dropout_p', type=float, default=0.1)\n",
    "    parser.add_argument('--answer_weight_norm_on', action='store_true')\n",
    "    parser.add_argument('--dump_state_on', action='store_true')\n",
    "    parser.add_argument('--answer_opt', type=int, default=1, help='0,1')\n",
    "    parser.add_argument('--pooler_actf', type=str, default='tanh',\n",
    "                        help='tanh/relu/gelu')\n",
    "    parser.add_argument('--mtl_opt', type=int, default=0)\n",
    "    parser.add_argument('--ratio', type=float, default=0)\n",
    "    parser.add_argument('--mix_opt', type=int, default=0)\n",
    "    parser.add_argument('--max_seq_len', type=int, default=512)\n",
    "    parser.add_argument('--init_ratio', type=float, default=1)\n",
    "    parser.add_argument('--encoder_type', type=int, default=EncoderModelType.BERT)\n",
    "    parser.add_argument('--num_hidden_layers', type=int, default=-1)\n",
    "\n",
    "    # BERT pre-training\n",
    "    parser.add_argument('--bert_model_type', type=str, default='bert-base-cased')\n",
    "    parser.add_argument('--init_checkpoint', type=str, default='bert-base-cased')\n",
    "    parser.add_argument('--do_lower_case', action='store_true')\n",
    "    parser.add_argument('--masked_lm_prob', type=float, default=0.15)\n",
    "    parser.add_argument('--short_seq_prob', type=float, default=0.2)\n",
    "    parser.add_argument('--max_predictions_per_seq', type=int, default=128)\n",
    "\n",
    "    # bin samples\n",
    "    parser.add_argument('--bin_on', action='store_true')\n",
    "    parser.add_argument('--bin_size', type=int, default=64)\n",
    "    parser.add_argument('--bin_grow_ratio', type=int, default=0.5)\n",
    "\n",
    "    # dist training\n",
    "    parser.add_argument(\"--local_rank\", type=int, default=-1, help=\"For distributed training: local_rank\")\n",
    "    parser.add_argument(\"--world_size\", type=int, default=1, help=\"For distributed training: world size\")\n",
    "    parser.add_argument(\"--master_addr\", type=str, default=\"localhost\")\n",
    "    parser.add_argument(\"--master_port\", type=str, default=\"6600\")\n",
    "    parser.add_argument(\"--backend\", type=str, default=\"nccl\")\n",
    "    ##############\n",
    "\n",
    "    return parser\n",
    "\n",
    "\n",
    "def data_config(parser):\n",
    "    # SET THESE\n",
    "    ############\n",
    "    parser.add_argument('--exp_name', default='', help='experiment name')\n",
    "    parser.add_argument('--dataset_name', default='', help='dataset name')\n",
    "    parser.add_argument('--wandb', action='store_true')\n",
    "    ############\n",
    "\n",
    "    # DON'T NEED THESE\n",
    "    ############\n",
    "    parser.add_argument('--log_file', default='mt-dnn.log', help='path for log file.')\n",
    "    parser.add_argument('--data_sort_on', action='store_true')\n",
    "    parser.add_argument('--mkd-opt', type=int, default=0, \n",
    "                        help=\">0 to turn on knowledge distillation, requires 'softlabel' column in input data\")\n",
    "    parser.add_argument('--do_padding', action='store_true')\n",
    "    ############\n",
    "    return parser\n",
    "\n",
    "\n",
    "def train_config(parser):\n",
    "    # SET THESE\n",
    "    ############\n",
    "    parser.add_argument('--epochs', type=int, default=6)\n",
    "    parser.add_argument('--batch_size', type=int, default=8)\n",
    "\n",
    "    # loading\n",
    "    parser.add_argument(\"--model_ckpt\", default='', type=str)\n",
    "    parser.add_argument(\"--resume\", action='store_true')\n",
    "    parser.add_argument('--huggingface_ckpt', action='store_true')\n",
    "\n",
    "    # metrics\n",
    "    parser.add_argument('--metric_of_choice', default='F1', type=str)\n",
    "    ############\n",
    "\n",
    "    # DON'T NEED THESE\n",
    "    ############\n",
    "    parser.add_argument('--cuda', type=bool, default=torch.cuda.is_available(),\n",
    "                        help='whether to use GPU acceleration.')\n",
    "    parser.add_argument('--log_per_updates', type=int, default=100)\n",
    "    parser.add_argument('--save_per_updates', type=int, default=10000)\n",
    "    parser.add_argument('--save_per_updates_on', action='store_true')\n",
    "    parser.add_argument('--optimizer', default='adamax',\n",
    "                        help='supported optimizer: adamax, sgd, adadelta, adam')\n",
    "    parser.add_argument('--grad_clipping', type=float, default=0)\n",
    "    parser.add_argument('--global_grad_clipping', type=float, default=1.0)\n",
    "    parser.add_argument('--weight_decay', type=float, default=0)\n",
    "    parser.add_argument('--learning_rate', type=float, default=5e-5)\n",
    "    parser.add_argument('--momentum', type=float, default=0)\n",
    "    parser.add_argument('--warmup', type=float, default=0.1)\n",
    "    parser.add_argument('--warmup_schedule', type=str, default='warmup_linear')\n",
    "    parser.add_argument('--adam_eps', type=float, default=1e-6)\n",
    "\n",
    "    parser.add_argument('--vb_dropout', action='store_false')\n",
    "    parser.add_argument('--dropout_p', type=float, default=0.1)\n",
    "    parser.add_argument('--dropout_w', type=float, default=0.000)\n",
    "    parser.add_argument('--bert_dropout_p', type=float, default=0.1)\n",
    "\n",
    "    # scheduler\n",
    "    parser.add_argument('--have_lr_scheduler', dest='have_lr_scheduler', action='store_false')\n",
    "    parser.add_argument('--multi_step_lr', type=str, default='10,20,30')\n",
    "    parser.add_argument('--lr_gamma', type=float, default=0.5)\n",
    "    parser.add_argument('--scheduler_type', type=str, default='ms', help='ms/rop/exp')\n",
    "    parser.add_argument('--output_dir', default='checkpoint')\n",
    "    parser.add_argument('--seed', type=int, default=2018,\n",
    "                        help='random seed for data shuffling, embedding init, etc.')\n",
    "    parser.add_argument('--grad_accumulation_step', type=int, default=1)\n",
    "\n",
    "    #fp 16\n",
    "    parser.add_argument('--fp16', action='store_true',\n",
    "                        help=\"Whether to use 16-bit (mixed) precision (through NVIDIA apex) instead of 32-bit\")\n",
    "    parser.add_argument('--fp16_opt_level', type=str, default='O1',\n",
    "                        help=\"For fp16: Apex AMP optimization level selected in ['O0', 'O1', 'O2', and 'O3'].\"\n",
    "                             \"See details at https://nvidia.github.io/apex/amp.html\")\n",
    "\n",
    "    # adv training\n",
    "    parser.add_argument('--adv_train', action='store_true')\n",
    "\n",
    "    # the current release only includes smart perturbation\n",
    "    parser.add_argument('--adv_opt', default=0, type=int)\n",
    "    parser.add_argument('--adv_norm_level', default=0, type=int)\n",
    "    parser.add_argument('--adv_p_norm', default='inf', type=str)\n",
    "    parser.add_argument('--adv_alpha', default=1, type=float)\n",
    "    parser.add_argument('--adv_k', default=1, type=int)\n",
    "    parser.add_argument('--adv_step_size', default=1e-5, type=float)\n",
    "    parser.add_argument('--adv_noise_var', default=1e-5, type=float)\n",
    "    parser.add_argument('--adv_epsilon', default=1e-6, type=float)\n",
    "    parser.add_argument('--encode_mode', action='store_true', help=\"only encode test data\")\n",
    "    parser.add_argument('--debug', action='store_true', help=\"print debug info\")\n",
    "\n",
    "    # transformer cache\n",
    "    parser.add_argument(\"--transformer_cache\", default='.cache', type=str)\n",
    "    ############\n",
    "\n",
    "    return parser"
   ]
  },
  {
   "cell_type": "code",
   "execution_count": 3,
   "id": "6f7a5efd",
   "metadata": {},
   "outputs": [
    {
     "data": {
      "text/plain": [
       "\"\\n                              '--head_probe', '--head_probe_layer', '11', '--head_probe_idx', '0',\\n                              '--head_probe_n_classes', '13',\\n\""
      ]
     },
     "execution_count": 3,
     "metadata": {},
     "output_type": "execute_result"
    }
   ],
   "source": [
    "# parse args\n",
    "parser = argparse.ArgumentParser()\n",
    "parser = data_config(parser)\n",
    "parser = model_config(parser)\n",
    "parser = train_config(parser)\n",
    "\n",
    "args = parser.parse_args(args=['--devices', '0',\n",
    "                              '--exp_name', 'COARSE_cross_dummy',\n",
    "                              '--dataset_name', 'COARSE/en',\n",
    "                              #'--wandb',\n",
    "                               '--epochs', '5', '--batch_size', '16', '--learning_rate', '5e-5', '--grad_accumulation_step', '4', \n",
    "                               '--bert_model_type', 'bert-base-cased', \n",
    "                               '--fp16', '--metric_of_choice', 'MCC',\n",
    "                               #'--resume', '--huggingface_ckpt', '--model_ckpt', '/home/aadil/mt-dnn/mt_dnn_models/bert_model_base_cased.pt'\n",
    "                               '--resume', '--model_ckpt', 'checkpoint/COARSE_cross/model_4_125.pt'\n",
    "                              ])\n",
    "'''\n",
    "args = parser.parse_args(args=['--devices', '0',\n",
    "                              '--model_probe', '--model_probe_n_classes', '10', '--model_probe_sequence',\n",
    "                              '--exp_name', 'COARSE_NER',\n",
    "                              '--dataset_name', 'GOEMOTIONS/en',\n",
    "                              '--wandb',\n",
    "                              '--epochs', '2', '--batch_size', '64', '--learning_rate', '5e-3',\n",
    "                              '--bert_model_type', 'bert-base-cased', \n",
    "                              '--model_ckpt', 'checkpoint/COARSE_cross/model_4_125.pt',\n",
    "                              '--metric_of_choice', 'SeqEvalList',\n",
    "                              '--fp16',\n",
    "                              ])\n",
    "'''\n",
    "'''\n",
    "                              '--head_probe', '--head_probe_layer', '11', '--head_probe_idx', '0',\n",
    "                              '--head_probe_n_classes', '13',\n",
    "'''"
   ]
  },
  {
   "cell_type": "code",
   "execution_count": 4,
   "id": "05bbef6b",
   "metadata": {},
   "outputs": [],
   "source": [
    "# some stuff in data can be automated\n",
    "dataset_name = args.dataset_name\n",
    "args.data_dir = f'experiments/{dataset_name}/{args.bert_model_type}'\n",
    "args.task_def = f'experiments/{dataset_name}/task_def.yaml'\n",
    "if \"/\" in dataset_name:\n",
    "    args.train_datasets = dataset_name.split(\"/\")[0].lower()\n",
    "else:\n",
    "    args.train_datasets = dataset_name.lower()\n",
    "\n",
    "# set task name, root data dir, and output dir.\n",
    "output_dir = args.output_dir\n",
    "data_dir = args.data_dir\n",
    "\n",
    "# multiple datasets are split by '_'\n",
    "args.train_datasets = args.train_datasets.split('_')\n",
    "\n",
    "# seed everything.\n",
    "set_environment(args.seed, args.cuda)\n",
    "\n",
    "# stores task: param_args for each TaskDef param\n",
    "task_defs = TaskDefs(args.task_def)\n",
    "encoder_type = args.encoder_type\n",
    "\n",
    "exp_name = args.exp_name\n",
    "\n",
    "# make log dir and set logger.\n",
    "log_path = f'logs/{exp_name}/{args.log_file}'\n",
    "Path(log_path).parent.mkdir(parents=True, exist_ok=True)\n",
    "logger = create_logger(__name__, to_disk=True, log_file=log_path)\n",
    "\n",
    "# make output dir and set to absolute path.\n",
    "if not args.head_probe:\n",
    "    output_dir = Path(output_dir).joinpath(exp_name)\n",
    "\n",
    "output_dir = Path(os.path.abspath(output_dir))\n",
    "output_dir.mkdir(exist_ok=True, parents=True)"
   ]
  },
  {
   "cell_type": "code",
   "execution_count": 5,
   "id": "0e73f42e",
   "metadata": {},
   "outputs": [
    {
     "name": "stdout",
     "output_type": "stream",
     "text": [
      "06/13/2022 08:05:50 Launching MT-DNN training.\n"
     ]
    }
   ],
   "source": [
    "print_message(logger, 'Launching MT-DNN training.')\n",
    "opt = vars(args)\n",
    "args.devices = [int(g) for g in args.devices]\n",
    "\n",
    "tasks = {}\n",
    "task_def_list = []\n",
    "train_data_lists = []\n",
    "train_datasets = []"
   ]
  },
  {
   "cell_type": "code",
   "execution_count": 6,
   "id": "41b6a386",
   "metadata": {},
   "outputs": [
    {
     "name": "stdout",
     "output_type": "stream",
     "text": [
      "06/13/2022 08:05:52 Loading experiments/COARSE/en/bert-base-cased/coarse_train.json as task 0\n",
      "Loaded 1600 samples out of 1600\n"
     ]
    }
   ],
   "source": [
    "# python prepro_std.py --model bert-base-multilingual-cased --dataset GOEMOTIONS/en --task_def experiments/GOEMOTIONS/en/task_def.yaml\n",
    "# create training dataset.\n",
    "for dataset in args.train_datasets:\n",
    "    prefix = dataset.split('_')[0]\n",
    "    if prefix not in tasks:\n",
    "        task_id = len(tasks)\n",
    "        tasks[prefix] = task_id\n",
    "\n",
    "        task_def = task_defs.get_task_def(prefix)\n",
    "        task_def_list.append(task_def)\n",
    "\n",
    "        train_path = os.path.join(data_dir, '{}_train.json'.format(dataset))\n",
    "        print_message(logger, 'Loading {} as task {}'.format(train_path, task_id))\n",
    "        \n",
    "        train_data_set = SingleTaskDataset(\n",
    "            path=train_path,\n",
    "            is_train=True,\n",
    "            maxlen=args.max_seq_len,\n",
    "            task_id=task_id,\n",
    "            task_def=task_def,\n",
    "            printable=True)\n",
    "\n",
    "        train_datasets.append(train_data_set)"
   ]
  },
  {
   "cell_type": "code",
   "execution_count": 7,
   "id": "eb96df38",
   "metadata": {},
   "outputs": [],
   "source": [
    "train_collater = Collater(\n",
    "    dropout_w=args.dropout_w,\n",
    "    encoder_type=encoder_type,\n",
    "    soft_label=False,\n",
    "    max_seq_len=args.max_seq_len,\n",
    "    do_padding=args.do_padding)\n",
    "\n",
    "multi_task_train_dataset = MultiTaskDataset(train_datasets)\n",
    "multi_task_batch_sampler = MultiTaskBatchSampler(\n",
    "                            train_datasets,\n",
    "                            args.batch_size,\n",
    "                            args.mix_opt,\n",
    "                            args.ratio,\n",
    "                            bin_on=args.bin_on,\n",
    "                            bin_size=args.bin_size,\n",
    "                            bin_grow_ratio=args.bin_grow_ratio)\n",
    "\n",
    "multi_task_train_dataloader = DataLoader(\n",
    "    multi_task_train_dataset,\n",
    "    batch_sampler=multi_task_batch_sampler,\n",
    "    collate_fn=train_collater.collate_fn,\n",
    "    pin_memory=len(args.devices)>0)\n",
    "\n",
    "train_data_lists.append(multi_task_train_dataloader)"
   ]
  },
  {
   "cell_type": "code",
   "execution_count": 8,
   "id": "663563a9",
   "metadata": {},
   "outputs": [
    {
     "name": "stdout",
     "output_type": "stream",
     "text": [
      "06/13/2022 07:51:40 ############# Gradient Accumulation Info #############\n",
      "06/13/2022 07:51:40 number of step: 500\n",
      "06/13/2022 07:51:40 number of grad grad_accumulation step: 4\n",
      "06/13/2022 07:51:40 adjusted number of step: 125\n",
      "06/13/2022 07:51:40 #######################################\n",
      "\n"
     ]
    }
   ],
   "source": [
    "# div number of grad accumulation. \n",
    "n_batch_per_epoch = len(multi_task_train_dataloader) // args.grad_accumulation_step\n",
    "num_all_batches = args.epochs * n_batch_per_epoch\n",
    "print_message(logger, '############# Gradient Accumulation Info #############')\n",
    "print_message(logger, 'number of step: {}'.format(args.epochs * len(multi_task_train_dataloader)))\n",
    "print_message(logger, 'number of grad grad_accumulation step: {}'.format(args.grad_accumulation_step))\n",
    "print_message(logger, 'adjusted number of step: {}'.format(num_all_batches))\n",
    "print_message(logger, '#######################################\\n')\n",
    "\n",
    "if opt['encoder_type'] not in EncoderModelType._value2member_map_:\n",
    "    raise ValueError(\"encoder_type is out of pre-defined types\")\n",
    "\n",
    "literal_encoder_type = EncoderModelType(opt['encoder_type']).name.lower()\n",
    "config_class, _, _ = MODEL_CLASSES[literal_encoder_type]\n",
    "config = config_class.from_pretrained(args.bert_model_type).to_dict()\n",
    "\n",
    "config['attention_probs_dropout_prob'] = args.bert_dropout_p\n",
    "config['hidden_dropout_prob'] = args.bert_dropout_p\n",
    "config['multi_gpu_on'] = opt[\"multi_gpu_on\"]\n",
    "\n",
    "if args.num_hidden_layers > 0:\n",
    "    config['num_hidden_layers'] = args.num_hidden_layers\n",
    "\n",
    "opt['task_def_list'] = task_def_list\n",
    "opt['head_probe'] = args.head_probe\n",
    "opt.update(config)"
   ]
  },
  {
   "cell_type": "code",
   "execution_count": 9,
   "id": "8cc47744",
   "metadata": {},
   "outputs": [
    {
     "name": "stdout",
     "output_type": "stream",
     "text": [
      "06/13/2022 07:51:40 loading model from checkpoint/COARSE_cross/model_4_125.pt\n"
     ]
    }
   ],
   "source": [
    "# if resuming, load state dict, and get init epoch and step.\n",
    "if args.resume:\n",
    "    assert args.model_ckpt != '' and Path(args.model_ckpt).is_file(), args.model_ckpt\n",
    "    print_message(logger, f'loading model from {args.model_ckpt}')           \n",
    "    state_dict = torch.load(args.model_ckpt, map_location=f'cuda:{args.devices[0]}')\n",
    "\n",
    "    if args.jm_finetune:\n",
    "        if args.jm_finetune_new:\n",
    "            i = 0\n",
    "            while f'scoring_list.{i}.weight' in state_dict['state']:\n",
    "                del state_dict['state'][f'scoring_list.{i}.weight']\n",
    "                del state_dict['state'][f'scoring_list.{i}.bias']\n",
    "                i += 1\n",
    "        else:\n",
    "            i = 0\n",
    "            while f'scoring_list.{i}.weight' in state_dict['state']:\n",
    "                if i != args.jm_task_id:\n",
    "                    del state_dict['state'][f'scoring_list.{i}.weight']\n",
    "                    del state_dict['state'][f'scoring_list.{i}.bias']\n",
    "                i += 1\n",
    "\n",
    "            if args.jm_task_id != 0:\n",
    "                for param in ['weight', 'bias']:\n",
    "                    state_dict['state'][f'scoring_list.0.{param}'] = state_dict['state'][f'scoring_list.{args.jm_task_id}.{param}']\n",
    "                    del state_dict['state'][f'scoring_list.{args.jm_task_id}.{param}']\n",
    "\n",
    "    if not args.huggingface_ckpt:\n",
    "        split_model_name = args.model_ckpt.split(\"/\")[-1].split(\"_\")\n",
    "        if len(split_model_name) > 2:\n",
    "            init_epoch_idx = int(split_model_name[1]) + 1\n",
    "            init_global_step = int(split_model_name[2].split(\".\")[0]) + 1\n",
    "        else:\n",
    "            init_epoch_idx = int(split_model_name[1].split(\".\")[0]) + 1\n",
    "            init_global_step = 0\n",
    "    else:\n",
    "        init_epoch_idx = 0\n",
    "        init_global_step = 0\n",
    "\n",
    "else:\n",
    "    state_dict = None\n",
    "    init_epoch_idx = 0\n",
    "    init_global_step = 0"
   ]
  },
  {
   "cell_type": "code",
   "execution_count": 10,
   "id": "f3c33bf3",
   "metadata": {
    "scrolled": false
   },
   "outputs": [
    {
     "name": "stderr",
     "output_type": "stream",
     "text": [
      "Some weights of the model checkpoint at bert-base-cased were not used when initializing BertModel: ['cls.seq_relationship.bias', 'cls.predictions.bias', 'cls.predictions.transform.LayerNorm.bias', 'cls.predictions.decoder.weight', 'cls.predictions.transform.LayerNorm.weight', 'cls.predictions.transform.dense.weight', 'cls.predictions.transform.dense.bias', 'cls.seq_relationship.weight']\n",
      "- This IS expected if you are initializing BertModel from the checkpoint of a model trained on another task or with another architecture (e.g. initializing a BertForSequenceClassification model from a BertForPreTraining model).\n",
      "- This IS NOT expected if you are initializing BertModel from the checkpoint of a model that you expect to be exactly identical (initializing a BertForSequenceClassification model from a BertForSequenceClassification model).\n"
     ]
    },
    {
     "name": "stdout",
     "output_type": "stream",
     "text": [
      "Selected optimization level O1:  Insert automatic casts around Pytorch functions and Tensor methods.\n",
      "\n",
      "Defaults for this optimization level are:\n",
      "enabled                : True\n",
      "opt_level              : O1\n",
      "cast_model_type        : None\n",
      "patch_torch_functions  : True\n",
      "keep_batchnorm_fp32    : None\n",
      "master_weights         : None\n",
      "loss_scale             : dynamic\n",
      "Processing user overrides (additional kwargs that are not None)...\n",
      "After processing overrides, optimization options are:\n",
      "enabled                : True\n",
      "opt_level              : O1\n",
      "cast_model_type        : None\n",
      "patch_torch_functions  : True\n",
      "keep_batchnorm_fp32    : None\n",
      "master_weights         : None\n",
      "loss_scale             : dynamic\n",
      "Warning:  multi_tensor_applier fused unscale kernel is unavailable, possibly because apex was installed without --cuda_ext --cpp_ext. Using Python fallback.  Original ImportError was: ModuleNotFoundError(\"No module named 'amp_C'\")\n"
     ]
    }
   ],
   "source": [
    "model = MTDNNModel(\n",
    "        opt,\n",
    "        devices=args.devices,\n",
    "        num_train_step=num_all_batches)"
   ]
  },
  {
   "cell_type": "code",
   "execution_count": 11,
   "id": "76602cdb",
   "metadata": {},
   "outputs": [],
   "source": [
    "if not (args.head_probe or args.model_probe):\n",
    "    if state_dict is not None and args.resume:\n",
    "        if args.huggingface_ckpt:\n",
    "            if args.bert_model_type == 'bert-base-multilingual-cased':\n",
    "                params_to_remove = [\n",
    "                    \"cls.predictions.bias\",\n",
    "                    \"cls.predictions.transform.dense.weight\",\n",
    "                    \"cls.predictions.transform.dense.bias\",\n",
    "                    \"cls.predictions.transform.LayerNorm.weight\",\n",
    "                    \"cls.predictions.transform.LayerNorm.bias\",\n",
    "                    \"cls.predictions.decoder.weight\",\n",
    "                    \"cls.predictions.decoder.bias\"\n",
    "                ]\n",
    "            elif args.bert_model_type == 'xlm-roberta-base':\n",
    "                params_to_remove = []\n",
    "\n",
    "                # rename roberta -> bert\n",
    "                renamed_state_dict = {}\n",
    "                for n, p in state_dict.items():\n",
    "                    new_name = n.split('.')\n",
    "                    if new_name[0] == 'roberta':\n",
    "                        new_name[0] = 'bert'\n",
    "                        new_name = '.'.join(new_name)\n",
    "                        renamed_state_dict[new_name] = p\n",
    "                state_dict = renamed_state_dict\n",
    "            else:\n",
    "                params_to_remove = []\n",
    "\n",
    "            for param_name in params_to_remove:\n",
    "                if param_name in state_dict:\n",
    "                    print(f'{param_name} in state_dict, removing')\n",
    "                    del state_dict[param_name]\n",
    "                else:\n",
    "                    print(f'{param_name} not in state_dict')\n",
    "\n",
    "            _init_state_dict = model.network.state_dict()\n",
    "\n",
    "            params_to_add = [\n",
    "                    \"bert.pooler.dense.weight\",\n",
    "                    \"bert.pooler.dense.bias\",\n",
    "                    \"pooler.dense.weight\",\n",
    "                    \"pooler.dense.bias\"\n",
    "                ]\n",
    "            num_tasks = len(task_def_list)\n",
    "            for i in range(num_tasks):\n",
    "                params_to_add.extend([f\"scoring_list.{i}.weight\", f\"scoring_list.{i}.bias\"])\n",
    "\n",
    "            for param_name in params_to_add:\n",
    "                #state_dict[param_name] = _init_state_dict[param_name]\n",
    "                state_dict['state'][param_name] = _init_state_dict[param_name]\n",
    "\n",
    "            #state_dict = {'state': state_dict}\n",
    "\n",
    "        if args.jm_finetune and args.jm_finetune_new:\n",
    "            for param in ['weight', 'bias']:\n",
    "                state_dict['state'][f'scoring_list.0.{param}'] = model.network.state_dict()[f'scoring_list.0.{param}']\n",
    "        \n",
    "        model.load_state_dict(state_dict)"
   ]
  },
  {
   "cell_type": "code",
   "execution_count": 12,
   "id": "c8350401",
   "metadata": {},
   "outputs": [],
   "source": [
    "if args.head_probe:\n",
    "    print_message(logger, f'attached head probe at layer #{args.head_probe_layer+1}, head #{args.head_probe_idx+1}')\n",
    "    opt['head_idx_to_probe'] = (args.head_probe_layer, args.head_probe_idx)\n",
    "\n",
    "    # freeze all params\n",
    "    for p in model.network.parameters():\n",
    "        p.requires_grad = False\n",
    "    \n",
    "    # load model, making sure to match scoring_list params\n",
    "    if args.model_ckpt != '':\n",
    "        state_dict = torch.load(args.model_ckpt, map_location=f'cuda:{args.devices[0]}')\n",
    "        state_dict['state']['scoring_list.0.weight'] = model.network.state_dict()['scoring_list.0.weight']\n",
    "        state_dict['state']['scoring_list.0.bias'] = model.network.state_dict()['scoring_list.0.bias']\n",
    "\n",
    "        # don't need pooler weights of finetuned model if we're head_probing on a SL task\n",
    "        if task_def_list[0].task_type is TaskType.SequenceLabeling:\n",
    "            if 'pooler.dense.weight' in state_dict['state']:\n",
    "                del state_dict['state']['pooler.dense.weight']\n",
    "                del state_dict['state']['pooler.dense.bias']\n",
    "        \n",
    "        else:\n",
    "            # if loaded checkpoint is NER or POS, but head probing on a Classification task,\n",
    "            # match params.\n",
    "            # this has no effect on results, but allows you to load state dict with strict=True,\n",
    "            # which is safer.\n",
    "            if 'pooler.dense.weight' not in state_dict['state']:\n",
    "                state_dict['state']['pooler.dense.weight'] = model.network.state_dict()['pooler.dense.weight']\n",
    "                state_dict['state']['pooler.dense.bias'] = model.network.state_dict()['pooler.dense.bias']\n",
    "        \n",
    "        model.load_state_dict(state_dict)\n",
    "    \n",
    "    # then attach probing head\n",
    "    model.attach_head_probe(\n",
    "        args.head_probe_layer,\n",
    "        args.head_probe_idx,\n",
    "        n_classes=args.head_probe_n_classes,\n",
    "        sequence=args.head_probe_sequence)\n",
    "    optimizer_parameters = model._get_param_groups()\n",
    "    model._setup_optim(optimizer_parameters, None, num_all_batches)\n",
    "\n",
    "    init_epoch_idx = 0\n",
    "    init_global_step = 0"
   ]
  },
  {
   "cell_type": "code",
   "execution_count": 13,
   "id": "b7f35d6e",
   "metadata": {},
   "outputs": [],
   "source": [
    "if args.model_probe:\n",
    "    print_message(logger, 'probing whole model. Setting n_epochs to 2.')\n",
    "    args.epochs = 2\n",
    "\n",
    "    # freeze all params\n",
    "    for p in model.network.parameters():\n",
    "        p.requires_grad = False\n",
    "    \n",
    "    # load model, making sure to match scoring_list params\n",
    "    if args.model_ckpt != '':\n",
    "        print(f'model_probe, loading model ckpt from {args.model_ckpt}')\n",
    "        state_dict = torch.load(args.model_ckpt, map_location=f'cuda:{args.devices[0]}')\n",
    "        state_dict['state']['scoring_list.0.weight'] = model.network.state_dict()['scoring_list.0.weight']\n",
    "        state_dict['state']['scoring_list.0.bias'] = model.network.state_dict()['scoring_list.0.bias']\n",
    "\n",
    "        # don't need pooler weights of finetuned model if we're head_probing on a SL task\n",
    "        if task_def_list[0].task_type is TaskType.SequenceLabeling:\n",
    "            if 'pooler.dense.weight' in state_dict['state']:\n",
    "                del state_dict['state']['pooler.dense.weight']\n",
    "                del state_dict['state']['pooler.dense.bias']\n",
    "        \n",
    "        else:\n",
    "            # if model finetuned under SequenceLabeling and model probing on a task that is Classification\n",
    "            if 'pooler.dense.weight' not in state_dict['state'] and 'pooler.dense.weight' in model.network.state_dict():\n",
    "                state_dict['state']['pooler.dense.weight'] = model.network.state_dict()['pooler.dense.weight']\n",
    "                state_dict['state']['pooler.dense.bias'] = model.network.state_dict()['pooler.dense.bias']\n",
    "        \n",
    "        model.load_state_dict(state_dict)\n",
    "    \n",
    "    # then attach probing head\n",
    "    model.attach_model_probe(n_classes=args.model_probe_n_classes, sequence=args.model_probe_sequence)\n",
    "    optimizer_parameters = model._get_param_groups()\n",
    "    model._setup_optim(optimizer_parameters, None, num_all_batches)\n",
    "\n",
    "    init_epoch_idx = 0\n",
    "    init_global_step = 0"
   ]
  },
  {
   "cell_type": "code",
   "execution_count": 14,
   "id": "5e394d04",
   "metadata": {},
   "outputs": [],
   "source": [
    "train_collater = Collater(\n",
    "    dropout_w=args.dropout_w,\n",
    "    encoder_type=encoder_type,\n",
    "    soft_label=False,\n",
    "    max_seq_len=args.max_seq_len,\n",
    "    do_padding=args.do_padding)\n",
    "\n",
    "multi_task_train_dataset = MultiTaskDataset(train_datasets)\n",
    "multi_task_batch_sampler = MultiTaskBatchSampler(\n",
    "                            train_datasets,\n",
    "                            args.batch_size,\n",
    "                            args.mix_opt,\n",
    "                            args.ratio,\n",
    "                            bin_on=args.bin_on,\n",
    "                            bin_size=args.bin_size,\n",
    "                            bin_grow_ratio=args.bin_grow_ratio)\n",
    "\n",
    "multi_task_train_dataloader = DataLoader(\n",
    "    multi_task_train_dataset,\n",
    "    batch_sampler=multi_task_batch_sampler,\n",
    "    collate_fn=train_collater.collate_fn,\n",
    "    pin_memory=len(args.devices)>0)\n",
    "\n",
    "train_data_lists.append(multi_task_train_dataloader)"
   ]
  },
  {
   "cell_type": "code",
   "execution_count": 15,
   "id": "083541a6",
   "metadata": {
    "scrolled": false
   },
   "outputs": [
    {
     "name": "stdout",
     "output_type": "stream",
     "text": [
      "Loaded 200 samples out of 200\n"
     ]
    }
   ],
   "source": [
    "metric_meta = task_defs._metric_meta_map[dataset]\n",
    "datasets = ['en']\n",
    "model_type = 'bert'\n",
    "device_id = args.devices[0]\n",
    "task = Experiment[dataset.upper()]\n",
    "task_def_path = args.task_def\n",
    "\n",
    "dev_data_lst = []\n",
    "for ds in datasets:\n",
    "    data_path = f'experiments/{task.name}/{ds}/{args.bert_model_type}/{task.name.lower()}_dev.json'\n",
    "    dev_data = build_dataset(\n",
    "        data_path,\n",
    "        EncoderModelType.BERT,\n",
    "        batch_size=8,\n",
    "        max_seq_len=512,\n",
    "        task_def=TaskDefs(task_def_path).get_task_def(task.name.lower()))\n",
    "    dev_data_lst.append(dev_data)  \n",
    "\n",
    "# dump config\n",
    "dump_opt(opt, output_dir)\n",
    "\n",
    "if args.gradient_probe:\n",
    "    save_path = Path('gradient_probe_outputs').joinpath(exp_name)\n",
    "    prediction_gradient(\n",
    "        args,\n",
    "        model, \n",
    "        multi_task_train_dataloader,\n",
    "        save_path\n",
    "    )\n",
    "    #return\n",
    "\n",
    "if args.wandb:\n",
    "    wandb.init(project='soroush', name=exp_name)"
   ]
  },
  {
   "cell_type": "code",
   "execution_count": 17,
   "id": "ef7537c2",
   "metadata": {
    "scrolled": false
   },
   "outputs": [
    {
     "name": "stdout",
     "output_type": "stream",
     "text": [
      "06/13/2022 07:26:18 At epoch 5\n"
     ]
    },
    {
     "name": "stderr",
     "output_type": "stream",
     "text": [
      "/home/aadil/anaconda3/envs/venv3.8/lib/python3.8/site-packages/torch/nn/functional.py:1933: UserWarning: nn.functional.tanh is deprecated. Use torch.tanh instead.\n",
      "  warnings.warn(\"nn.functional.tanh is deprecated. Use torch.tanh instead.\")\n",
      "/home/aadil/anaconda3/envs/venv3.8/lib/python3.8/site-packages/apex/amp/wrap.py:101: UserWarning: This overload of add_ is deprecated:\n",
      "\tadd_(Number alpha, Tensor other)\n",
      "Consider using one of the following signatures instead:\n",
      "\tadd_(Tensor other, *, Number alpha) (Triggered internally at  ../torch/csrc/utils/python_arg_parser.cpp:1055.)\n",
      "  return orig_fn(arg0, *args, **kwargs)\n"
     ]
    },
    {
     "name": "stdout",
     "output_type": "stream",
     "text": [
      "06/13/2022 07:26:19 [e5] [1/25] train loss: 0.05420 | dev score: 57.04998\n"
     ]
    },
    {
     "name": "stderr",
     "output_type": "stream",
     "text": [
      "/home/aadil/anaconda3/envs/venv3.8/lib/python3.8/site-packages/torch/nn/functional.py:1933: UserWarning: nn.functional.tanh is deprecated. Use torch.tanh instead.\n",
      "  warnings.warn(\"nn.functional.tanh is deprecated. Use torch.tanh instead.\")\n"
     ]
    },
    {
     "name": "stdout",
     "output_type": "stream",
     "text": [
      "06/13/2022 07:26:20 [e5] [1/25] train loss: 0.04864 | dev score: 57.04998\n"
     ]
    },
    {
     "name": "stderr",
     "output_type": "stream",
     "text": [
      "/home/aadil/anaconda3/envs/venv3.8/lib/python3.8/site-packages/torch/nn/functional.py:1933: UserWarning: nn.functional.tanh is deprecated. Use torch.tanh instead.\n",
      "  warnings.warn(\"nn.functional.tanh is deprecated. Use torch.tanh instead.\")\n"
     ]
    },
    {
     "name": "stdout",
     "output_type": "stream",
     "text": [
      "06/13/2022 07:26:20 [e5] [1/25] train loss: 0.04406 | dev score: 57.04998\n"
     ]
    },
    {
     "name": "stderr",
     "output_type": "stream",
     "text": [
      "/home/aadil/anaconda3/envs/venv3.8/lib/python3.8/site-packages/torch/nn/functional.py:1933: UserWarning: nn.functional.tanh is deprecated. Use torch.tanh instead.\n",
      "  warnings.warn(\"nn.functional.tanh is deprecated. Use torch.tanh instead.\")\n"
     ]
    },
    {
     "name": "stdout",
     "output_type": "stream",
     "text": [
      "06/13/2022 07:26:20 [e5] [1/25] train loss: 0.03925 | dev score: 57.04998\n"
     ]
    },
    {
     "name": "stderr",
     "output_type": "stream",
     "text": [
      "/home/aadil/anaconda3/envs/venv3.8/lib/python3.8/site-packages/torch/nn/functional.py:1933: UserWarning: nn.functional.tanh is deprecated. Use torch.tanh instead.\n",
      "  warnings.warn(\"nn.functional.tanh is deprecated. Use torch.tanh instead.\")\n"
     ]
    },
    {
     "ename": "KeyboardInterrupt",
     "evalue": "",
     "output_type": "error",
     "traceback": [
      "\u001b[0;31m---------------------------------------------------------------------------\u001b[0m",
      "\u001b[0;31mKeyboardInterrupt\u001b[0m                         Traceback (most recent call last)",
      "\u001b[1;32m/home/aadil/bert-probing/pipeline.ipynb Cell 16'\u001b[0m in \u001b[0;36m<cell line: 3>\u001b[0;34m()\u001b[0m\n\u001b[1;32m      <a href='vscode-notebook-cell://ssh-remote%2B7b22686f73744e616d65223a223132392e3137302e3231322e3333222c2275736572223a22616164696c227d/home/aadil/bert-probing/pipeline.ipynb#ch0000015vscode-remote?line=6'>7</a>\u001b[0m batch_meta, batch_data \u001b[39m=\u001b[39m Collater\u001b[39m.\u001b[39mpatch_data(\n\u001b[1;32m      <a href='vscode-notebook-cell://ssh-remote%2B7b22686f73744e616d65223a223132392e3137302e3231322e3333222c2275736572223a22616164696c227d/home/aadil/bert-probing/pipeline.ipynb#ch0000015vscode-remote?line=7'>8</a>\u001b[0m     torch\u001b[39m.\u001b[39mdevice(args\u001b[39m.\u001b[39mdevices[\u001b[39m0\u001b[39m]),\n\u001b[1;32m      <a href='vscode-notebook-cell://ssh-remote%2B7b22686f73744e616d65223a223132392e3137302e3231322e3333222c2275736572223a22616164696c227d/home/aadil/bert-probing/pipeline.ipynb#ch0000015vscode-remote?line=8'>9</a>\u001b[0m     batch_meta,\n\u001b[1;32m     <a href='vscode-notebook-cell://ssh-remote%2B7b22686f73744e616d65223a223132392e3137302e3231322e3333222c2275736572223a22616164696c227d/home/aadil/bert-probing/pipeline.ipynb#ch0000015vscode-remote?line=9'>10</a>\u001b[0m     batch_data)\n\u001b[1;32m     <a href='vscode-notebook-cell://ssh-remote%2B7b22686f73744e616d65223a223132392e3137302e3231322e3333222c2275736572223a22616164696c227d/home/aadil/bert-probing/pipeline.ipynb#ch0000015vscode-remote?line=11'>12</a>\u001b[0m task_id \u001b[39m=\u001b[39m batch_meta[\u001b[39m'\u001b[39m\u001b[39mtask_id\u001b[39m\u001b[39m'\u001b[39m]\n\u001b[0;32m---> <a href='vscode-notebook-cell://ssh-remote%2B7b22686f73744e616d65223a223132392e3137302e3231322e3333222c2275736572223a22616164696c227d/home/aadil/bert-probing/pipeline.ipynb#ch0000015vscode-remote?line=12'>13</a>\u001b[0m model\u001b[39m.\u001b[39;49mupdate(batch_meta, batch_data)\n\u001b[1;32m     <a href='vscode-notebook-cell://ssh-remote%2B7b22686f73744e616d65223a223132392e3137302e3231322e3333222c2275736572223a22616164696c227d/home/aadil/bert-probing/pipeline.ipynb#ch0000015vscode-remote?line=14'>15</a>\u001b[0m metrics \u001b[39m=\u001b[39m []\n\u001b[1;32m     <a href='vscode-notebook-cell://ssh-remote%2B7b22686f73744e616d65223a223132392e3137302e3231322e3333222c2275736572223a22616164696c227d/home/aadil/bert-probing/pipeline.ipynb#ch0000015vscode-remote?line=16'>17</a>\u001b[0m \u001b[39mif\u001b[39;00m (model\u001b[39m.\u001b[39mupdates \u001b[39m-\u001b[39m \u001b[39m1\u001b[39m) \u001b[39m%\u001b[39m (args\u001b[39m.\u001b[39mlog_per_updates) \u001b[39m==\u001b[39m \u001b[39m0\u001b[39m:\n\u001b[1;32m     <a href='vscode-notebook-cell://ssh-remote%2B7b22686f73744e616d65223a223132392e3137302e3231322e3333222c2275736572223a22616164696c227d/home/aadil/bert-probing/pipeline.ipynb#ch0000015vscode-remote?line=17'>18</a>\u001b[0m     \u001b[39m# Based on evaluate_model_against_multiple_datasets\u001b[39;00m\n",
      "File \u001b[0;32m~/bert-probing/mt_dnn/model.py:253\u001b[0m, in \u001b[0;36mMTDNNModel.update\u001b[0;34m(self, batch_meta, batch_data)\u001b[0m\n\u001b[1;32m    <a href='file:///home/aadil/bert-probing/mt_dnn/model.py?line=248'>249</a>\u001b[0m         weight \u001b[39m=\u001b[39m batch_data[batch_meta[\u001b[39m'\u001b[39m\u001b[39mfactor\u001b[39m\u001b[39m'\u001b[39m]]\n\u001b[1;32m    <a href='file:///home/aadil/bert-probing/mt_dnn/model.py?line=250'>251</a>\u001b[0m \u001b[39m#with autocast():\u001b[39;00m\n\u001b[1;32m    <a href='file:///home/aadil/bert-probing/mt_dnn/model.py?line=251'>252</a>\u001b[0m \u001b[39m# fw to get logits\u001b[39;00m\n\u001b[0;32m--> <a href='file:///home/aadil/bert-probing/mt_dnn/model.py?line=252'>253</a>\u001b[0m logits \u001b[39m=\u001b[39m \u001b[39mself\u001b[39;49m\u001b[39m.\u001b[39;49mmnetwork(\u001b[39m*\u001b[39;49minputs, model_probe\u001b[39m=\u001b[39;49m\u001b[39mself\u001b[39;49m\u001b[39m.\u001b[39;49mmodel_probe, head_probe\u001b[39m=\u001b[39;49m\u001b[39mself\u001b[39;49m\u001b[39m.\u001b[39;49mhead_probe)\n\u001b[1;32m    <a href='file:///home/aadil/bert-probing/mt_dnn/model.py?line=254'>255</a>\u001b[0m \u001b[39m# compute loss\u001b[39;00m\n\u001b[1;32m    <a href='file:///home/aadil/bert-probing/mt_dnn/model.py?line=255'>256</a>\u001b[0m loss \u001b[39m=\u001b[39m \u001b[39m0\u001b[39m\n",
      "File \u001b[0;32m~/anaconda3/envs/venv3.8/lib/python3.8/site-packages/torch/nn/modules/module.py:1110\u001b[0m, in \u001b[0;36mModule._call_impl\u001b[0;34m(self, *input, **kwargs)\u001b[0m\n\u001b[1;32m   <a href='file:///home/aadil/anaconda3/envs/venv3.8/lib/python3.8/site-packages/torch/nn/modules/module.py?line=1105'>1106</a>\u001b[0m \u001b[39m# If we don't have any hooks, we want to skip the rest of the logic in\u001b[39;00m\n\u001b[1;32m   <a href='file:///home/aadil/anaconda3/envs/venv3.8/lib/python3.8/site-packages/torch/nn/modules/module.py?line=1106'>1107</a>\u001b[0m \u001b[39m# this function, and just call forward.\u001b[39;00m\n\u001b[1;32m   <a href='file:///home/aadil/anaconda3/envs/venv3.8/lib/python3.8/site-packages/torch/nn/modules/module.py?line=1107'>1108</a>\u001b[0m \u001b[39mif\u001b[39;00m \u001b[39mnot\u001b[39;00m (\u001b[39mself\u001b[39m\u001b[39m.\u001b[39m_backward_hooks \u001b[39mor\u001b[39;00m \u001b[39mself\u001b[39m\u001b[39m.\u001b[39m_forward_hooks \u001b[39mor\u001b[39;00m \u001b[39mself\u001b[39m\u001b[39m.\u001b[39m_forward_pre_hooks \u001b[39mor\u001b[39;00m _global_backward_hooks\n\u001b[1;32m   <a href='file:///home/aadil/anaconda3/envs/venv3.8/lib/python3.8/site-packages/torch/nn/modules/module.py?line=1108'>1109</a>\u001b[0m         \u001b[39mor\u001b[39;00m _global_forward_hooks \u001b[39mor\u001b[39;00m _global_forward_pre_hooks):\n\u001b[0;32m-> <a href='file:///home/aadil/anaconda3/envs/venv3.8/lib/python3.8/site-packages/torch/nn/modules/module.py?line=1109'>1110</a>\u001b[0m     \u001b[39mreturn\u001b[39;00m forward_call(\u001b[39m*\u001b[39;49m\u001b[39minput\u001b[39;49m, \u001b[39m*\u001b[39;49m\u001b[39m*\u001b[39;49mkwargs)\n\u001b[1;32m   <a href='file:///home/aadil/anaconda3/envs/venv3.8/lib/python3.8/site-packages/torch/nn/modules/module.py?line=1110'>1111</a>\u001b[0m \u001b[39m# Do not call functions when jit is used\u001b[39;00m\n\u001b[1;32m   <a href='file:///home/aadil/anaconda3/envs/venv3.8/lib/python3.8/site-packages/torch/nn/modules/module.py?line=1111'>1112</a>\u001b[0m full_backward_hooks, non_full_backward_hooks \u001b[39m=\u001b[39m [], []\n",
      "File \u001b[0;32m~/bert-probing/mt_dnn/matcher.py:156\u001b[0m, in \u001b[0;36mSANBertNetwork.forward\u001b[0;34m(self, input_ids, token_type_ids, attention_mask, premise_mask, hyp_mask, task_id, y_input_ids, fwd_type, embed, model_probe, head_probe)\u001b[0m\n\u001b[1;32m    <a href='file:///home/aadil/bert-probing/mt_dnn/matcher.py?line=153'>154</a>\u001b[0m \u001b[39mdef\u001b[39;00m \u001b[39mforward\u001b[39m(\u001b[39mself\u001b[39m, input_ids, token_type_ids, attention_mask, premise_mask\u001b[39m=\u001b[39m\u001b[39mNone\u001b[39;00m, hyp_mask\u001b[39m=\u001b[39m\u001b[39mNone\u001b[39;00m, task_id\u001b[39m=\u001b[39m\u001b[39m0\u001b[39m, y_input_ids\u001b[39m=\u001b[39m\u001b[39mNone\u001b[39;00m, fwd_type\u001b[39m=\u001b[39m\u001b[39m0\u001b[39m, embed\u001b[39m=\u001b[39m\u001b[39mNone\u001b[39;00m, model_probe\u001b[39m=\u001b[39m\u001b[39mFalse\u001b[39;00m, head_probe\u001b[39m=\u001b[39m\u001b[39mFalse\u001b[39;00m):        \n\u001b[1;32m    <a href='file:///home/aadil/bert-probing/mt_dnn/matcher.py?line=154'>155</a>\u001b[0m     \u001b[39massert\u001b[39;00m fwd_type \u001b[39m==\u001b[39m \u001b[39m0\u001b[39m, fwd_type\n\u001b[0;32m--> <a href='file:///home/aadil/bert-probing/mt_dnn/matcher.py?line=155'>156</a>\u001b[0m     encode_outputs \u001b[39m=\u001b[39m \u001b[39mself\u001b[39;49m\u001b[39m.\u001b[39;49mencode(\n\u001b[1;32m    <a href='file:///home/aadil/bert-probing/mt_dnn/matcher.py?line=156'>157</a>\u001b[0m                         input_ids,\n\u001b[1;32m    <a href='file:///home/aadil/bert-probing/mt_dnn/matcher.py?line=157'>158</a>\u001b[0m                         token_type_ids,\n\u001b[1;32m    <a href='file:///home/aadil/bert-probing/mt_dnn/matcher.py?line=158'>159</a>\u001b[0m                         attention_mask,\n\u001b[1;32m    <a href='file:///home/aadil/bert-probing/mt_dnn/matcher.py?line=159'>160</a>\u001b[0m                         y_input_ids\u001b[39m=\u001b[39;49my_input_ids,\n\u001b[1;32m    <a href='file:///home/aadil/bert-probing/mt_dnn/matcher.py?line=160'>161</a>\u001b[0m                         output_hidden_states\u001b[39m=\u001b[39;49m\u001b[39mTrue\u001b[39;49;00m\n\u001b[1;32m    <a href='file:///home/aadil/bert-probing/mt_dnn/matcher.py?line=161'>162</a>\u001b[0m                     )\n\u001b[1;32m    <a href='file:///home/aadil/bert-probing/mt_dnn/matcher.py?line=163'>164</a>\u001b[0m     last_hidden_state, all_hidden_states, head_probe_output, model_probe_output \u001b[39m=\u001b[39m encode_outputs\n\u001b[1;32m    <a href='file:///home/aadil/bert-probing/mt_dnn/matcher.py?line=165'>166</a>\u001b[0m     decoder_opt \u001b[39m=\u001b[39m \u001b[39mself\u001b[39m\u001b[39m.\u001b[39mdecoder_opt[task_id]\n",
      "File \u001b[0;32m~/bert-probing/mt_dnn/matcher.py:139\u001b[0m, in \u001b[0;36mSANBertNetwork.encode\u001b[0;34m(self, input_ids, token_type_ids, attention_mask, inputs_embeds, y_input_ids, output_hidden_states)\u001b[0m\n\u001b[1;32m    <a href='file:///home/aadil/bert-probing/mt_dnn/matcher.py?line=136'>137</a>\u001b[0m     all_hidden_states \u001b[39m=\u001b[39m outputs\u001b[39m.\u001b[39mencoder_last_hidden_state \u001b[39m# num_layers + 1 (embeddings)\u001b[39;00m\n\u001b[1;32m    <a href='file:///home/aadil/bert-probing/mt_dnn/matcher.py?line=137'>138</a>\u001b[0m \u001b[39melse\u001b[39;00m:\n\u001b[0;32m--> <a href='file:///home/aadil/bert-probing/mt_dnn/matcher.py?line=138'>139</a>\u001b[0m     outputs \u001b[39m=\u001b[39m \u001b[39mself\u001b[39;49m\u001b[39m.\u001b[39;49mbert(\n\u001b[1;32m    <a href='file:///home/aadil/bert-probing/mt_dnn/matcher.py?line=139'>140</a>\u001b[0m         input_ids\u001b[39m=\u001b[39;49minput_ids,\n\u001b[1;32m    <a href='file:///home/aadil/bert-probing/mt_dnn/matcher.py?line=140'>141</a>\u001b[0m         token_type_ids\u001b[39m=\u001b[39;49mtoken_type_ids,\n\u001b[1;32m    <a href='file:///home/aadil/bert-probing/mt_dnn/matcher.py?line=141'>142</a>\u001b[0m         attention_mask\u001b[39m=\u001b[39;49mattention_mask,\n\u001b[1;32m    <a href='file:///home/aadil/bert-probing/mt_dnn/matcher.py?line=142'>143</a>\u001b[0m         inputs_embeds\u001b[39m=\u001b[39;49minputs_embeds,\n\u001b[1;32m    <a href='file:///home/aadil/bert-probing/mt_dnn/matcher.py?line=143'>144</a>\u001b[0m         output_hidden_states\u001b[39m=\u001b[39;49moutput_hidden_states\n\u001b[1;32m    <a href='file:///home/aadil/bert-probing/mt_dnn/matcher.py?line=144'>145</a>\u001b[0m     )\n\u001b[1;32m    <a href='file:///home/aadil/bert-probing/mt_dnn/matcher.py?line=146'>147</a>\u001b[0m     last_hidden_state \u001b[39m=\u001b[39m outputs\u001b[39m.\u001b[39mlast_hidden_state\n\u001b[1;32m    <a href='file:///home/aadil/bert-probing/mt_dnn/matcher.py?line=147'>148</a>\u001b[0m     all_hidden_states \u001b[39m=\u001b[39m outputs\u001b[39m.\u001b[39mhidden_states \n",
      "File \u001b[0;32m~/anaconda3/envs/venv3.8/lib/python3.8/site-packages/torch/nn/modules/module.py:1110\u001b[0m, in \u001b[0;36mModule._call_impl\u001b[0;34m(self, *input, **kwargs)\u001b[0m\n\u001b[1;32m   <a href='file:///home/aadil/anaconda3/envs/venv3.8/lib/python3.8/site-packages/torch/nn/modules/module.py?line=1105'>1106</a>\u001b[0m \u001b[39m# If we don't have any hooks, we want to skip the rest of the logic in\u001b[39;00m\n\u001b[1;32m   <a href='file:///home/aadil/anaconda3/envs/venv3.8/lib/python3.8/site-packages/torch/nn/modules/module.py?line=1106'>1107</a>\u001b[0m \u001b[39m# this function, and just call forward.\u001b[39;00m\n\u001b[1;32m   <a href='file:///home/aadil/anaconda3/envs/venv3.8/lib/python3.8/site-packages/torch/nn/modules/module.py?line=1107'>1108</a>\u001b[0m \u001b[39mif\u001b[39;00m \u001b[39mnot\u001b[39;00m (\u001b[39mself\u001b[39m\u001b[39m.\u001b[39m_backward_hooks \u001b[39mor\u001b[39;00m \u001b[39mself\u001b[39m\u001b[39m.\u001b[39m_forward_hooks \u001b[39mor\u001b[39;00m \u001b[39mself\u001b[39m\u001b[39m.\u001b[39m_forward_pre_hooks \u001b[39mor\u001b[39;00m _global_backward_hooks\n\u001b[1;32m   <a href='file:///home/aadil/anaconda3/envs/venv3.8/lib/python3.8/site-packages/torch/nn/modules/module.py?line=1108'>1109</a>\u001b[0m         \u001b[39mor\u001b[39;00m _global_forward_hooks \u001b[39mor\u001b[39;00m _global_forward_pre_hooks):\n\u001b[0;32m-> <a href='file:///home/aadil/anaconda3/envs/venv3.8/lib/python3.8/site-packages/torch/nn/modules/module.py?line=1109'>1110</a>\u001b[0m     \u001b[39mreturn\u001b[39;00m forward_call(\u001b[39m*\u001b[39;49m\u001b[39minput\u001b[39;49m, \u001b[39m*\u001b[39;49m\u001b[39m*\u001b[39;49mkwargs)\n\u001b[1;32m   <a href='file:///home/aadil/anaconda3/envs/venv3.8/lib/python3.8/site-packages/torch/nn/modules/module.py?line=1110'>1111</a>\u001b[0m \u001b[39m# Do not call functions when jit is used\u001b[39;00m\n\u001b[1;32m   <a href='file:///home/aadil/anaconda3/envs/venv3.8/lib/python3.8/site-packages/torch/nn/modules/module.py?line=1111'>1112</a>\u001b[0m full_backward_hooks, non_full_backward_hooks \u001b[39m=\u001b[39m [], []\n",
      "File \u001b[0;32m~/anaconda3/envs/venv3.8/lib/python3.8/site-packages/transformers/models/bert/modeling_bert.py:2869\u001b[0m, in \u001b[0;36mBertModel.forward\u001b[0;34m(self, input_ids, attention_mask, token_type_ids, position_ids, head_mask, inputs_embeds, encoder_hidden_states, encoder_attention_mask, past_key_values, use_cache, output_attentions, output_hidden_states, return_dict)\u001b[0m\n\u001b[1;32m   <a href='file:///home/aadil/anaconda3/envs/venv3.8/lib/python3.8/site-packages/transformers/models/bert/modeling_bert.py?line=2858'>2859</a>\u001b[0m head_mask \u001b[39m=\u001b[39m \u001b[39mself\u001b[39m\u001b[39m.\u001b[39mget_head_mask(head_mask, \u001b[39mself\u001b[39m\u001b[39m.\u001b[39mconfig\u001b[39m.\u001b[39mnum_hidden_layers)\n\u001b[1;32m   <a href='file:///home/aadil/anaconda3/envs/venv3.8/lib/python3.8/site-packages/transformers/models/bert/modeling_bert.py?line=2860'>2861</a>\u001b[0m embedding_output \u001b[39m=\u001b[39m \u001b[39mself\u001b[39m\u001b[39m.\u001b[39membeddings(\n\u001b[1;32m   <a href='file:///home/aadil/anaconda3/envs/venv3.8/lib/python3.8/site-packages/transformers/models/bert/modeling_bert.py?line=2861'>2862</a>\u001b[0m     input_ids\u001b[39m=\u001b[39minput_ids,\n\u001b[1;32m   <a href='file:///home/aadil/anaconda3/envs/venv3.8/lib/python3.8/site-packages/transformers/models/bert/modeling_bert.py?line=2862'>2863</a>\u001b[0m     position_ids\u001b[39m=\u001b[39mposition_ids,\n\u001b[0;32m   (...)\u001b[0m\n\u001b[1;32m   <a href='file:///home/aadil/anaconda3/envs/venv3.8/lib/python3.8/site-packages/transformers/models/bert/modeling_bert.py?line=2865'>2866</a>\u001b[0m     past_key_values_length\u001b[39m=\u001b[39mpast_key_values_length,\n\u001b[1;32m   <a href='file:///home/aadil/anaconda3/envs/venv3.8/lib/python3.8/site-packages/transformers/models/bert/modeling_bert.py?line=2866'>2867</a>\u001b[0m )\n\u001b[0;32m-> <a href='file:///home/aadil/anaconda3/envs/venv3.8/lib/python3.8/site-packages/transformers/models/bert/modeling_bert.py?line=2868'>2869</a>\u001b[0m encoder_outputs \u001b[39m=\u001b[39m \u001b[39mself\u001b[39;49m\u001b[39m.\u001b[39;49mencoder(\n\u001b[1;32m   <a href='file:///home/aadil/anaconda3/envs/venv3.8/lib/python3.8/site-packages/transformers/models/bert/modeling_bert.py?line=2869'>2870</a>\u001b[0m     embedding_output,\n\u001b[1;32m   <a href='file:///home/aadil/anaconda3/envs/venv3.8/lib/python3.8/site-packages/transformers/models/bert/modeling_bert.py?line=2870'>2871</a>\u001b[0m     attention_mask\u001b[39m=\u001b[39;49mextended_attention_mask,\n\u001b[1;32m   <a href='file:///home/aadil/anaconda3/envs/venv3.8/lib/python3.8/site-packages/transformers/models/bert/modeling_bert.py?line=2871'>2872</a>\u001b[0m     head_mask\u001b[39m=\u001b[39;49mhead_mask,\n\u001b[1;32m   <a href='file:///home/aadil/anaconda3/envs/venv3.8/lib/python3.8/site-packages/transformers/models/bert/modeling_bert.py?line=2872'>2873</a>\u001b[0m     encoder_hidden_states\u001b[39m=\u001b[39;49mencoder_hidden_states,\n\u001b[1;32m   <a href='file:///home/aadil/anaconda3/envs/venv3.8/lib/python3.8/site-packages/transformers/models/bert/modeling_bert.py?line=2873'>2874</a>\u001b[0m     encoder_attention_mask\u001b[39m=\u001b[39;49mencoder_extended_attention_mask,\n\u001b[1;32m   <a href='file:///home/aadil/anaconda3/envs/venv3.8/lib/python3.8/site-packages/transformers/models/bert/modeling_bert.py?line=2874'>2875</a>\u001b[0m     past_key_values\u001b[39m=\u001b[39;49mpast_key_values,\n\u001b[1;32m   <a href='file:///home/aadil/anaconda3/envs/venv3.8/lib/python3.8/site-packages/transformers/models/bert/modeling_bert.py?line=2875'>2876</a>\u001b[0m     use_cache\u001b[39m=\u001b[39;49muse_cache,\n\u001b[1;32m   <a href='file:///home/aadil/anaconda3/envs/venv3.8/lib/python3.8/site-packages/transformers/models/bert/modeling_bert.py?line=2876'>2877</a>\u001b[0m     output_attentions\u001b[39m=\u001b[39;49moutput_attentions,\n\u001b[1;32m   <a href='file:///home/aadil/anaconda3/envs/venv3.8/lib/python3.8/site-packages/transformers/models/bert/modeling_bert.py?line=2877'>2878</a>\u001b[0m     output_hidden_states\u001b[39m=\u001b[39;49moutput_hidden_states,\n\u001b[1;32m   <a href='file:///home/aadil/anaconda3/envs/venv3.8/lib/python3.8/site-packages/transformers/models/bert/modeling_bert.py?line=2878'>2879</a>\u001b[0m     return_dict\u001b[39m=\u001b[39;49mreturn_dict,\n\u001b[1;32m   <a href='file:///home/aadil/anaconda3/envs/venv3.8/lib/python3.8/site-packages/transformers/models/bert/modeling_bert.py?line=2879'>2880</a>\u001b[0m )\n\u001b[1;32m   <a href='file:///home/aadil/anaconda3/envs/venv3.8/lib/python3.8/site-packages/transformers/models/bert/modeling_bert.py?line=2881'>2882</a>\u001b[0m sequence_output \u001b[39m=\u001b[39m encoder_outputs[\u001b[39m0\u001b[39m]\n\u001b[1;32m   <a href='file:///home/aadil/anaconda3/envs/venv3.8/lib/python3.8/site-packages/transformers/models/bert/modeling_bert.py?line=2882'>2883</a>\u001b[0m pooled_outputs \u001b[39m=\u001b[39m \u001b[39mself\u001b[39m\u001b[39m.\u001b[39mpooler(sequence_output) \u001b[39mif\u001b[39;00m \u001b[39mself\u001b[39m\u001b[39m.\u001b[39mpooler \u001b[39mis\u001b[39;00m \u001b[39mnot\u001b[39;00m \u001b[39mNone\u001b[39;00m \u001b[39melse\u001b[39;00m \u001b[39mNone\u001b[39;00m\n",
      "File \u001b[0;32m~/anaconda3/envs/venv3.8/lib/python3.8/site-packages/torch/nn/modules/module.py:1110\u001b[0m, in \u001b[0;36mModule._call_impl\u001b[0;34m(self, *input, **kwargs)\u001b[0m\n\u001b[1;32m   <a href='file:///home/aadil/anaconda3/envs/venv3.8/lib/python3.8/site-packages/torch/nn/modules/module.py?line=1105'>1106</a>\u001b[0m \u001b[39m# If we don't have any hooks, we want to skip the rest of the logic in\u001b[39;00m\n\u001b[1;32m   <a href='file:///home/aadil/anaconda3/envs/venv3.8/lib/python3.8/site-packages/torch/nn/modules/module.py?line=1106'>1107</a>\u001b[0m \u001b[39m# this function, and just call forward.\u001b[39;00m\n\u001b[1;32m   <a href='file:///home/aadil/anaconda3/envs/venv3.8/lib/python3.8/site-packages/torch/nn/modules/module.py?line=1107'>1108</a>\u001b[0m \u001b[39mif\u001b[39;00m \u001b[39mnot\u001b[39;00m (\u001b[39mself\u001b[39m\u001b[39m.\u001b[39m_backward_hooks \u001b[39mor\u001b[39;00m \u001b[39mself\u001b[39m\u001b[39m.\u001b[39m_forward_hooks \u001b[39mor\u001b[39;00m \u001b[39mself\u001b[39m\u001b[39m.\u001b[39m_forward_pre_hooks \u001b[39mor\u001b[39;00m _global_backward_hooks\n\u001b[1;32m   <a href='file:///home/aadil/anaconda3/envs/venv3.8/lib/python3.8/site-packages/torch/nn/modules/module.py?line=1108'>1109</a>\u001b[0m         \u001b[39mor\u001b[39;00m _global_forward_hooks \u001b[39mor\u001b[39;00m _global_forward_pre_hooks):\n\u001b[0;32m-> <a href='file:///home/aadil/anaconda3/envs/venv3.8/lib/python3.8/site-packages/torch/nn/modules/module.py?line=1109'>1110</a>\u001b[0m     \u001b[39mreturn\u001b[39;00m forward_call(\u001b[39m*\u001b[39;49m\u001b[39minput\u001b[39;49m, \u001b[39m*\u001b[39;49m\u001b[39m*\u001b[39;49mkwargs)\n\u001b[1;32m   <a href='file:///home/aadil/anaconda3/envs/venv3.8/lib/python3.8/site-packages/torch/nn/modules/module.py?line=1110'>1111</a>\u001b[0m \u001b[39m# Do not call functions when jit is used\u001b[39;00m\n\u001b[1;32m   <a href='file:///home/aadil/anaconda3/envs/venv3.8/lib/python3.8/site-packages/torch/nn/modules/module.py?line=1111'>1112</a>\u001b[0m full_backward_hooks, non_full_backward_hooks \u001b[39m=\u001b[39m [], []\n",
      "File \u001b[0;32m~/anaconda3/envs/venv3.8/lib/python3.8/site-packages/transformers/models/bert/modeling_bert.py:2442\u001b[0m, in \u001b[0;36mBertEncoder.forward\u001b[0;34m(self, hidden_states, attention_mask, head_mask, encoder_hidden_states, encoder_attention_mask, past_key_values, use_cache, output_attentions, output_hidden_states, return_dict)\u001b[0m\n\u001b[1;32m   <a href='file:///home/aadil/anaconda3/envs/venv3.8/lib/python3.8/site-packages/transformers/models/bert/modeling_bert.py?line=2432'>2433</a>\u001b[0m     layer_outputs \u001b[39m=\u001b[39m torch\u001b[39m.\u001b[39mutils\u001b[39m.\u001b[39mcheckpoint\u001b[39m.\u001b[39mcheckpoint(\n\u001b[1;32m   <a href='file:///home/aadil/anaconda3/envs/venv3.8/lib/python3.8/site-packages/transformers/models/bert/modeling_bert.py?line=2433'>2434</a>\u001b[0m         create_custom_forward(layer_module),\n\u001b[1;32m   <a href='file:///home/aadil/anaconda3/envs/venv3.8/lib/python3.8/site-packages/transformers/models/bert/modeling_bert.py?line=2434'>2435</a>\u001b[0m         hidden_states,\n\u001b[0;32m   (...)\u001b[0m\n\u001b[1;32m   <a href='file:///home/aadil/anaconda3/envs/venv3.8/lib/python3.8/site-packages/transformers/models/bert/modeling_bert.py?line=2438'>2439</a>\u001b[0m         encoder_attention_mask,\n\u001b[1;32m   <a href='file:///home/aadil/anaconda3/envs/venv3.8/lib/python3.8/site-packages/transformers/models/bert/modeling_bert.py?line=2439'>2440</a>\u001b[0m     )\n\u001b[1;32m   <a href='file:///home/aadil/anaconda3/envs/venv3.8/lib/python3.8/site-packages/transformers/models/bert/modeling_bert.py?line=2440'>2441</a>\u001b[0m \u001b[39melse\u001b[39;00m:\n\u001b[0;32m-> <a href='file:///home/aadil/anaconda3/envs/venv3.8/lib/python3.8/site-packages/transformers/models/bert/modeling_bert.py?line=2441'>2442</a>\u001b[0m     layer_outputs, head_probe \u001b[39m=\u001b[39m layer_module(\n\u001b[1;32m   <a href='file:///home/aadil/anaconda3/envs/venv3.8/lib/python3.8/site-packages/transformers/models/bert/modeling_bert.py?line=2442'>2443</a>\u001b[0m         hidden_states,\n\u001b[1;32m   <a href='file:///home/aadil/anaconda3/envs/venv3.8/lib/python3.8/site-packages/transformers/models/bert/modeling_bert.py?line=2443'>2444</a>\u001b[0m         attention_mask,\n\u001b[1;32m   <a href='file:///home/aadil/anaconda3/envs/venv3.8/lib/python3.8/site-packages/transformers/models/bert/modeling_bert.py?line=2444'>2445</a>\u001b[0m         layer_head_mask,\n\u001b[1;32m   <a href='file:///home/aadil/anaconda3/envs/venv3.8/lib/python3.8/site-packages/transformers/models/bert/modeling_bert.py?line=2445'>2446</a>\u001b[0m         encoder_hidden_states,\n\u001b[1;32m   <a href='file:///home/aadil/anaconda3/envs/venv3.8/lib/python3.8/site-packages/transformers/models/bert/modeling_bert.py?line=2446'>2447</a>\u001b[0m         encoder_attention_mask,\n\u001b[1;32m   <a href='file:///home/aadil/anaconda3/envs/venv3.8/lib/python3.8/site-packages/transformers/models/bert/modeling_bert.py?line=2447'>2448</a>\u001b[0m         past_key_value,\n\u001b[1;32m   <a href='file:///home/aadil/anaconda3/envs/venv3.8/lib/python3.8/site-packages/transformers/models/bert/modeling_bert.py?line=2448'>2449</a>\u001b[0m         output_attentions,\n\u001b[1;32m   <a href='file:///home/aadil/anaconda3/envs/venv3.8/lib/python3.8/site-packages/transformers/models/bert/modeling_bert.py?line=2449'>2450</a>\u001b[0m     )\n\u001b[1;32m   <a href='file:///home/aadil/anaconda3/envs/venv3.8/lib/python3.8/site-packages/transformers/models/bert/modeling_bert.py?line=2451'>2452</a>\u001b[0m     \u001b[39mif\u001b[39;00m head_probe:\n\u001b[1;32m   <a href='file:///home/aadil/anaconda3/envs/venv3.8/lib/python3.8/site-packages/transformers/models/bert/modeling_bert.py?line=2452'>2453</a>\u001b[0m         head_probe_output \u001b[39m=\u001b[39m layer_outputs[\u001b[39m-\u001b[39m\u001b[39m1\u001b[39m]\n",
      "File \u001b[0;32m~/anaconda3/envs/venv3.8/lib/python3.8/site-packages/torch/nn/modules/module.py:1110\u001b[0m, in \u001b[0;36mModule._call_impl\u001b[0;34m(self, *input, **kwargs)\u001b[0m\n\u001b[1;32m   <a href='file:///home/aadil/anaconda3/envs/venv3.8/lib/python3.8/site-packages/torch/nn/modules/module.py?line=1105'>1106</a>\u001b[0m \u001b[39m# If we don't have any hooks, we want to skip the rest of the logic in\u001b[39;00m\n\u001b[1;32m   <a href='file:///home/aadil/anaconda3/envs/venv3.8/lib/python3.8/site-packages/torch/nn/modules/module.py?line=1106'>1107</a>\u001b[0m \u001b[39m# this function, and just call forward.\u001b[39;00m\n\u001b[1;32m   <a href='file:///home/aadil/anaconda3/envs/venv3.8/lib/python3.8/site-packages/torch/nn/modules/module.py?line=1107'>1108</a>\u001b[0m \u001b[39mif\u001b[39;00m \u001b[39mnot\u001b[39;00m (\u001b[39mself\u001b[39m\u001b[39m.\u001b[39m_backward_hooks \u001b[39mor\u001b[39;00m \u001b[39mself\u001b[39m\u001b[39m.\u001b[39m_forward_hooks \u001b[39mor\u001b[39;00m \u001b[39mself\u001b[39m\u001b[39m.\u001b[39m_forward_pre_hooks \u001b[39mor\u001b[39;00m _global_backward_hooks\n\u001b[1;32m   <a href='file:///home/aadil/anaconda3/envs/venv3.8/lib/python3.8/site-packages/torch/nn/modules/module.py?line=1108'>1109</a>\u001b[0m         \u001b[39mor\u001b[39;00m _global_forward_hooks \u001b[39mor\u001b[39;00m _global_forward_pre_hooks):\n\u001b[0;32m-> <a href='file:///home/aadil/anaconda3/envs/venv3.8/lib/python3.8/site-packages/torch/nn/modules/module.py?line=1109'>1110</a>\u001b[0m     \u001b[39mreturn\u001b[39;00m forward_call(\u001b[39m*\u001b[39;49m\u001b[39minput\u001b[39;49m, \u001b[39m*\u001b[39;49m\u001b[39m*\u001b[39;49mkwargs)\n\u001b[1;32m   <a href='file:///home/aadil/anaconda3/envs/venv3.8/lib/python3.8/site-packages/torch/nn/modules/module.py?line=1110'>1111</a>\u001b[0m \u001b[39m# Do not call functions when jit is used\u001b[39;00m\n\u001b[1;32m   <a href='file:///home/aadil/anaconda3/envs/venv3.8/lib/python3.8/site-packages/torch/nn/modules/module.py?line=1111'>1112</a>\u001b[0m full_backward_hooks, non_full_backward_hooks \u001b[39m=\u001b[39m [], []\n",
      "File \u001b[0;32m~/anaconda3/envs/venv3.8/lib/python3.8/site-packages/transformers/models/bert/modeling_bert.py:2322\u001b[0m, in \u001b[0;36mBertLayer.forward\u001b[0;34m(self, hidden_states, attention_mask, head_mask, encoder_hidden_states, encoder_attention_mask, past_key_value, output_attentions)\u001b[0m\n\u001b[1;32m   <a href='file:///home/aadil/anaconda3/envs/venv3.8/lib/python3.8/site-packages/transformers/models/bert/modeling_bert.py?line=2309'>2310</a>\u001b[0m \u001b[39mdef\u001b[39;00m \u001b[39mforward\u001b[39m(\n\u001b[1;32m   <a href='file:///home/aadil/anaconda3/envs/venv3.8/lib/python3.8/site-packages/transformers/models/bert/modeling_bert.py?line=2310'>2311</a>\u001b[0m     \u001b[39mself\u001b[39m,\n\u001b[1;32m   <a href='file:///home/aadil/anaconda3/envs/venv3.8/lib/python3.8/site-packages/transformers/models/bert/modeling_bert.py?line=2311'>2312</a>\u001b[0m     hidden_states,\n\u001b[0;32m   (...)\u001b[0m\n\u001b[1;32m   <a href='file:///home/aadil/anaconda3/envs/venv3.8/lib/python3.8/site-packages/transformers/models/bert/modeling_bert.py?line=2318'>2319</a>\u001b[0m ):\n\u001b[1;32m   <a href='file:///home/aadil/anaconda3/envs/venv3.8/lib/python3.8/site-packages/transformers/models/bert/modeling_bert.py?line=2319'>2320</a>\u001b[0m     \u001b[39m# decoder uni-directional self-attention cached key/values tuple is at positions 1,2\u001b[39;00m\n\u001b[1;32m   <a href='file:///home/aadil/anaconda3/envs/venv3.8/lib/python3.8/site-packages/transformers/models/bert/modeling_bert.py?line=2320'>2321</a>\u001b[0m     self_attn_past_key_value \u001b[39m=\u001b[39m past_key_value[:\u001b[39m2\u001b[39m] \u001b[39mif\u001b[39;00m past_key_value \u001b[39mis\u001b[39;00m \u001b[39mnot\u001b[39;00m \u001b[39mNone\u001b[39;00m \u001b[39melse\u001b[39;00m \u001b[39mNone\u001b[39;00m\n\u001b[0;32m-> <a href='file:///home/aadil/anaconda3/envs/venv3.8/lib/python3.8/site-packages/transformers/models/bert/modeling_bert.py?line=2321'>2322</a>\u001b[0m     self_attention_outputs, head_probe \u001b[39m=\u001b[39m \u001b[39mself\u001b[39;49m\u001b[39m.\u001b[39;49mattention(\n\u001b[1;32m   <a href='file:///home/aadil/anaconda3/envs/venv3.8/lib/python3.8/site-packages/transformers/models/bert/modeling_bert.py?line=2322'>2323</a>\u001b[0m         hidden_states,\n\u001b[1;32m   <a href='file:///home/aadil/anaconda3/envs/venv3.8/lib/python3.8/site-packages/transformers/models/bert/modeling_bert.py?line=2323'>2324</a>\u001b[0m         attention_mask,\n\u001b[1;32m   <a href='file:///home/aadil/anaconda3/envs/venv3.8/lib/python3.8/site-packages/transformers/models/bert/modeling_bert.py?line=2324'>2325</a>\u001b[0m         head_mask,\n\u001b[1;32m   <a href='file:///home/aadil/anaconda3/envs/venv3.8/lib/python3.8/site-packages/transformers/models/bert/modeling_bert.py?line=2325'>2326</a>\u001b[0m         output_attentions\u001b[39m=\u001b[39;49moutput_attentions,\n\u001b[1;32m   <a href='file:///home/aadil/anaconda3/envs/venv3.8/lib/python3.8/site-packages/transformers/models/bert/modeling_bert.py?line=2326'>2327</a>\u001b[0m         past_key_value\u001b[39m=\u001b[39;49mself_attn_past_key_value,\n\u001b[1;32m   <a href='file:///home/aadil/anaconda3/envs/venv3.8/lib/python3.8/site-packages/transformers/models/bert/modeling_bert.py?line=2327'>2328</a>\u001b[0m     )\n\u001b[1;32m   <a href='file:///home/aadil/anaconda3/envs/venv3.8/lib/python3.8/site-packages/transformers/models/bert/modeling_bert.py?line=2328'>2329</a>\u001b[0m     attention_output \u001b[39m=\u001b[39m self_attention_outputs[\u001b[39m0\u001b[39m]\n\u001b[1;32m   <a href='file:///home/aadil/anaconda3/envs/venv3.8/lib/python3.8/site-packages/transformers/models/bert/modeling_bert.py?line=2329'>2330</a>\u001b[0m     \u001b[39mif\u001b[39;00m head_probe:\n",
      "File \u001b[0;32m~/anaconda3/envs/venv3.8/lib/python3.8/site-packages/torch/nn/modules/module.py:1110\u001b[0m, in \u001b[0;36mModule._call_impl\u001b[0;34m(self, *input, **kwargs)\u001b[0m\n\u001b[1;32m   <a href='file:///home/aadil/anaconda3/envs/venv3.8/lib/python3.8/site-packages/torch/nn/modules/module.py?line=1105'>1106</a>\u001b[0m \u001b[39m# If we don't have any hooks, we want to skip the rest of the logic in\u001b[39;00m\n\u001b[1;32m   <a href='file:///home/aadil/anaconda3/envs/venv3.8/lib/python3.8/site-packages/torch/nn/modules/module.py?line=1106'>1107</a>\u001b[0m \u001b[39m# this function, and just call forward.\u001b[39;00m\n\u001b[1;32m   <a href='file:///home/aadil/anaconda3/envs/venv3.8/lib/python3.8/site-packages/torch/nn/modules/module.py?line=1107'>1108</a>\u001b[0m \u001b[39mif\u001b[39;00m \u001b[39mnot\u001b[39;00m (\u001b[39mself\u001b[39m\u001b[39m.\u001b[39m_backward_hooks \u001b[39mor\u001b[39;00m \u001b[39mself\u001b[39m\u001b[39m.\u001b[39m_forward_hooks \u001b[39mor\u001b[39;00m \u001b[39mself\u001b[39m\u001b[39m.\u001b[39m_forward_pre_hooks \u001b[39mor\u001b[39;00m _global_backward_hooks\n\u001b[1;32m   <a href='file:///home/aadil/anaconda3/envs/venv3.8/lib/python3.8/site-packages/torch/nn/modules/module.py?line=1108'>1109</a>\u001b[0m         \u001b[39mor\u001b[39;00m _global_forward_hooks \u001b[39mor\u001b[39;00m _global_forward_pre_hooks):\n\u001b[0;32m-> <a href='file:///home/aadil/anaconda3/envs/venv3.8/lib/python3.8/site-packages/torch/nn/modules/module.py?line=1109'>1110</a>\u001b[0m     \u001b[39mreturn\u001b[39;00m forward_call(\u001b[39m*\u001b[39;49m\u001b[39minput\u001b[39;49m, \u001b[39m*\u001b[39;49m\u001b[39m*\u001b[39;49mkwargs)\n\u001b[1;32m   <a href='file:///home/aadil/anaconda3/envs/venv3.8/lib/python3.8/site-packages/torch/nn/modules/module.py?line=1110'>1111</a>\u001b[0m \u001b[39m# Do not call functions when jit is used\u001b[39;00m\n\u001b[1;32m   <a href='file:///home/aadil/anaconda3/envs/venv3.8/lib/python3.8/site-packages/torch/nn/modules/module.py?line=1111'>1112</a>\u001b[0m full_backward_hooks, non_full_backward_hooks \u001b[39m=\u001b[39m [], []\n",
      "File \u001b[0;32m~/anaconda3/envs/venv3.8/lib/python3.8/site-packages/transformers/models/bert/modeling_bert.py:2255\u001b[0m, in \u001b[0;36mBertAttention.forward\u001b[0;34m(self, hidden_states, attention_mask, head_mask, encoder_hidden_states, encoder_attention_mask, past_key_value, output_attentions)\u001b[0m\n\u001b[1;32m   <a href='file:///home/aadil/anaconda3/envs/venv3.8/lib/python3.8/site-packages/transformers/models/bert/modeling_bert.py?line=2234'>2235</a>\u001b[0m \u001b[39mdef\u001b[39;00m \u001b[39mforward\u001b[39m(\n\u001b[1;32m   <a href='file:///home/aadil/anaconda3/envs/venv3.8/lib/python3.8/site-packages/transformers/models/bert/modeling_bert.py?line=2235'>2236</a>\u001b[0m     \u001b[39mself\u001b[39m,\n\u001b[1;32m   <a href='file:///home/aadil/anaconda3/envs/venv3.8/lib/python3.8/site-packages/transformers/models/bert/modeling_bert.py?line=2236'>2237</a>\u001b[0m     hidden_states,\n\u001b[0;32m   (...)\u001b[0m\n\u001b[1;32m   <a href='file:///home/aadil/anaconda3/envs/venv3.8/lib/python3.8/site-packages/transformers/models/bert/modeling_bert.py?line=2242'>2243</a>\u001b[0m     output_attentions\u001b[39m=\u001b[39m\u001b[39mFalse\u001b[39;00m,\n\u001b[1;32m   <a href='file:///home/aadil/anaconda3/envs/venv3.8/lib/python3.8/site-packages/transformers/models/bert/modeling_bert.py?line=2243'>2244</a>\u001b[0m ):\n\u001b[1;32m   <a href='file:///home/aadil/anaconda3/envs/venv3.8/lib/python3.8/site-packages/transformers/models/bert/modeling_bert.py?line=2244'>2245</a>\u001b[0m     self_outputs, head_probe \u001b[39m=\u001b[39m \u001b[39mself\u001b[39m\u001b[39m.\u001b[39mself(\n\u001b[1;32m   <a href='file:///home/aadil/anaconda3/envs/venv3.8/lib/python3.8/site-packages/transformers/models/bert/modeling_bert.py?line=2245'>2246</a>\u001b[0m         hidden_states,\n\u001b[1;32m   <a href='file:///home/aadil/anaconda3/envs/venv3.8/lib/python3.8/site-packages/transformers/models/bert/modeling_bert.py?line=2246'>2247</a>\u001b[0m         attention_mask,\n\u001b[0;32m   (...)\u001b[0m\n\u001b[1;32m   <a href='file:///home/aadil/anaconda3/envs/venv3.8/lib/python3.8/site-packages/transformers/models/bert/modeling_bert.py?line=2251'>2252</a>\u001b[0m         output_attentions,\n\u001b[1;32m   <a href='file:///home/aadil/anaconda3/envs/venv3.8/lib/python3.8/site-packages/transformers/models/bert/modeling_bert.py?line=2252'>2253</a>\u001b[0m     )\n\u001b[0;32m-> <a href='file:///home/aadil/anaconda3/envs/venv3.8/lib/python3.8/site-packages/transformers/models/bert/modeling_bert.py?line=2254'>2255</a>\u001b[0m     attention_output \u001b[39m=\u001b[39m \u001b[39mself\u001b[39;49m\u001b[39m.\u001b[39;49moutput(self_outputs[\u001b[39m0\u001b[39;49m], hidden_states)\n\u001b[1;32m   <a href='file:///home/aadil/anaconda3/envs/venv3.8/lib/python3.8/site-packages/transformers/models/bert/modeling_bert.py?line=2255'>2256</a>\u001b[0m     outputs \u001b[39m=\u001b[39m (attention_output,)\n\u001b[1;32m   <a href='file:///home/aadil/anaconda3/envs/venv3.8/lib/python3.8/site-packages/transformers/models/bert/modeling_bert.py?line=2257'>2258</a>\u001b[0m     \u001b[39mif\u001b[39;00m \u001b[39mlen\u001b[39m(self_outputs) \u001b[39m==\u001b[39m \u001b[39m3\u001b[39m \u001b[39mor\u001b[39;00m (\u001b[39mlen\u001b[39m(self_outputs) \u001b[39m==\u001b[39m \u001b[39m2\u001b[39m \u001b[39mand\u001b[39;00m \u001b[39mnot\u001b[39;00m head_probe):\n",
      "File \u001b[0;32m~/anaconda3/envs/venv3.8/lib/python3.8/site-packages/torch/nn/modules/module.py:1110\u001b[0m, in \u001b[0;36mModule._call_impl\u001b[0;34m(self, *input, **kwargs)\u001b[0m\n\u001b[1;32m   <a href='file:///home/aadil/anaconda3/envs/venv3.8/lib/python3.8/site-packages/torch/nn/modules/module.py?line=1105'>1106</a>\u001b[0m \u001b[39m# If we don't have any hooks, we want to skip the rest of the logic in\u001b[39;00m\n\u001b[1;32m   <a href='file:///home/aadil/anaconda3/envs/venv3.8/lib/python3.8/site-packages/torch/nn/modules/module.py?line=1106'>1107</a>\u001b[0m \u001b[39m# this function, and just call forward.\u001b[39;00m\n\u001b[1;32m   <a href='file:///home/aadil/anaconda3/envs/venv3.8/lib/python3.8/site-packages/torch/nn/modules/module.py?line=1107'>1108</a>\u001b[0m \u001b[39mif\u001b[39;00m \u001b[39mnot\u001b[39;00m (\u001b[39mself\u001b[39m\u001b[39m.\u001b[39m_backward_hooks \u001b[39mor\u001b[39;00m \u001b[39mself\u001b[39m\u001b[39m.\u001b[39m_forward_hooks \u001b[39mor\u001b[39;00m \u001b[39mself\u001b[39m\u001b[39m.\u001b[39m_forward_pre_hooks \u001b[39mor\u001b[39;00m _global_backward_hooks\n\u001b[1;32m   <a href='file:///home/aadil/anaconda3/envs/venv3.8/lib/python3.8/site-packages/torch/nn/modules/module.py?line=1108'>1109</a>\u001b[0m         \u001b[39mor\u001b[39;00m _global_forward_hooks \u001b[39mor\u001b[39;00m _global_forward_pre_hooks):\n\u001b[0;32m-> <a href='file:///home/aadil/anaconda3/envs/venv3.8/lib/python3.8/site-packages/torch/nn/modules/module.py?line=1109'>1110</a>\u001b[0m     \u001b[39mreturn\u001b[39;00m forward_call(\u001b[39m*\u001b[39;49m\u001b[39minput\u001b[39;49m, \u001b[39m*\u001b[39;49m\u001b[39m*\u001b[39;49mkwargs)\n\u001b[1;32m   <a href='file:///home/aadil/anaconda3/envs/venv3.8/lib/python3.8/site-packages/torch/nn/modules/module.py?line=1110'>1111</a>\u001b[0m \u001b[39m# Do not call functions when jit is used\u001b[39;00m\n\u001b[1;32m   <a href='file:///home/aadil/anaconda3/envs/venv3.8/lib/python3.8/site-packages/torch/nn/modules/module.py?line=1111'>1112</a>\u001b[0m full_backward_hooks, non_full_backward_hooks \u001b[39m=\u001b[39m [], []\n",
      "File \u001b[0;32m~/anaconda3/envs/venv3.8/lib/python3.8/site-packages/transformers/models/bert/modeling_bert.py:2204\u001b[0m, in \u001b[0;36mBertSelfOutput.forward\u001b[0;34m(self, hidden_states, input_tensor)\u001b[0m\n\u001b[1;32m   <a href='file:///home/aadil/anaconda3/envs/venv3.8/lib/python3.8/site-packages/transformers/models/bert/modeling_bert.py?line=2202'>2203</a>\u001b[0m \u001b[39mdef\u001b[39;00m \u001b[39mforward\u001b[39m(\u001b[39mself\u001b[39m, hidden_states, input_tensor):\n\u001b[0;32m-> <a href='file:///home/aadil/anaconda3/envs/venv3.8/lib/python3.8/site-packages/transformers/models/bert/modeling_bert.py?line=2203'>2204</a>\u001b[0m     hidden_states \u001b[39m=\u001b[39m \u001b[39mself\u001b[39;49m\u001b[39m.\u001b[39;49mdense(hidden_states)\n\u001b[1;32m   <a href='file:///home/aadil/anaconda3/envs/venv3.8/lib/python3.8/site-packages/transformers/models/bert/modeling_bert.py?line=2204'>2205</a>\u001b[0m     hidden_states \u001b[39m=\u001b[39m \u001b[39mself\u001b[39m\u001b[39m.\u001b[39mdropout(hidden_states)\n\u001b[1;32m   <a href='file:///home/aadil/anaconda3/envs/venv3.8/lib/python3.8/site-packages/transformers/models/bert/modeling_bert.py?line=2205'>2206</a>\u001b[0m     hidden_states \u001b[39m=\u001b[39m \u001b[39mself\u001b[39m\u001b[39m.\u001b[39mLayerNorm(hidden_states \u001b[39m+\u001b[39m input_tensor)\n",
      "File \u001b[0;32m~/anaconda3/envs/venv3.8/lib/python3.8/site-packages/torch/nn/modules/module.py:1110\u001b[0m, in \u001b[0;36mModule._call_impl\u001b[0;34m(self, *input, **kwargs)\u001b[0m\n\u001b[1;32m   <a href='file:///home/aadil/anaconda3/envs/venv3.8/lib/python3.8/site-packages/torch/nn/modules/module.py?line=1105'>1106</a>\u001b[0m \u001b[39m# If we don't have any hooks, we want to skip the rest of the logic in\u001b[39;00m\n\u001b[1;32m   <a href='file:///home/aadil/anaconda3/envs/venv3.8/lib/python3.8/site-packages/torch/nn/modules/module.py?line=1106'>1107</a>\u001b[0m \u001b[39m# this function, and just call forward.\u001b[39;00m\n\u001b[1;32m   <a href='file:///home/aadil/anaconda3/envs/venv3.8/lib/python3.8/site-packages/torch/nn/modules/module.py?line=1107'>1108</a>\u001b[0m \u001b[39mif\u001b[39;00m \u001b[39mnot\u001b[39;00m (\u001b[39mself\u001b[39m\u001b[39m.\u001b[39m_backward_hooks \u001b[39mor\u001b[39;00m \u001b[39mself\u001b[39m\u001b[39m.\u001b[39m_forward_hooks \u001b[39mor\u001b[39;00m \u001b[39mself\u001b[39m\u001b[39m.\u001b[39m_forward_pre_hooks \u001b[39mor\u001b[39;00m _global_backward_hooks\n\u001b[1;32m   <a href='file:///home/aadil/anaconda3/envs/venv3.8/lib/python3.8/site-packages/torch/nn/modules/module.py?line=1108'>1109</a>\u001b[0m         \u001b[39mor\u001b[39;00m _global_forward_hooks \u001b[39mor\u001b[39;00m _global_forward_pre_hooks):\n\u001b[0;32m-> <a href='file:///home/aadil/anaconda3/envs/venv3.8/lib/python3.8/site-packages/torch/nn/modules/module.py?line=1109'>1110</a>\u001b[0m     \u001b[39mreturn\u001b[39;00m forward_call(\u001b[39m*\u001b[39;49m\u001b[39minput\u001b[39;49m, \u001b[39m*\u001b[39;49m\u001b[39m*\u001b[39;49mkwargs)\n\u001b[1;32m   <a href='file:///home/aadil/anaconda3/envs/venv3.8/lib/python3.8/site-packages/torch/nn/modules/module.py?line=1110'>1111</a>\u001b[0m \u001b[39m# Do not call functions when jit is used\u001b[39;00m\n\u001b[1;32m   <a href='file:///home/aadil/anaconda3/envs/venv3.8/lib/python3.8/site-packages/torch/nn/modules/module.py?line=1111'>1112</a>\u001b[0m full_backward_hooks, non_full_backward_hooks \u001b[39m=\u001b[39m [], []\n",
      "File \u001b[0;32m~/anaconda3/envs/venv3.8/lib/python3.8/site-packages/torch/nn/modules/linear.py:103\u001b[0m, in \u001b[0;36mLinear.forward\u001b[0;34m(self, input)\u001b[0m\n\u001b[1;32m    <a href='file:///home/aadil/anaconda3/envs/venv3.8/lib/python3.8/site-packages/torch/nn/modules/linear.py?line=101'>102</a>\u001b[0m \u001b[39mdef\u001b[39;00m \u001b[39mforward\u001b[39m(\u001b[39mself\u001b[39m, \u001b[39minput\u001b[39m: Tensor) \u001b[39m-\u001b[39m\u001b[39m>\u001b[39m Tensor:\n\u001b[0;32m--> <a href='file:///home/aadil/anaconda3/envs/venv3.8/lib/python3.8/site-packages/torch/nn/modules/linear.py?line=102'>103</a>\u001b[0m     \u001b[39mreturn\u001b[39;00m F\u001b[39m.\u001b[39;49mlinear(\u001b[39minput\u001b[39;49m, \u001b[39mself\u001b[39;49m\u001b[39m.\u001b[39;49mweight, \u001b[39mself\u001b[39;49m\u001b[39m.\u001b[39;49mbias)\n",
      "File \u001b[0;32m~/anaconda3/envs/venv3.8/lib/python3.8/site-packages/apex/amp/wrap.py:25\u001b[0m, in \u001b[0;36mmake_cast_wrapper.<locals>.wrapper\u001b[0;34m(*args, **kwargs)\u001b[0m\n\u001b[1;32m     <a href='file:///home/aadil/anaconda3/envs/venv3.8/lib/python3.8/site-packages/apex/amp/wrap.py?line=22'>23</a>\u001b[0m         \u001b[39mif\u001b[39;00m utils\u001b[39m.\u001b[39mshould_cache(kwargs[k]):\n\u001b[1;32m     <a href='file:///home/aadil/anaconda3/envs/venv3.8/lib/python3.8/site-packages/apex/amp/wrap.py?line=23'>24</a>\u001b[0m             kwargs[k] \u001b[39m=\u001b[39m utils\u001b[39m.\u001b[39mcached_cast(cast_fn, kwargs[k], handle\u001b[39m.\u001b[39mcache)\n\u001b[0;32m---> <a href='file:///home/aadil/anaconda3/envs/venv3.8/lib/python3.8/site-packages/apex/amp/wrap.py?line=24'>25</a>\u001b[0m new_args \u001b[39m=\u001b[39m utils\u001b[39m.\u001b[39;49mcasted_args(cast_fn,\n\u001b[1;32m     <a href='file:///home/aadil/anaconda3/envs/venv3.8/lib/python3.8/site-packages/apex/amp/wrap.py?line=25'>26</a>\u001b[0m                              args,\n\u001b[1;32m     <a href='file:///home/aadil/anaconda3/envs/venv3.8/lib/python3.8/site-packages/apex/amp/wrap.py?line=26'>27</a>\u001b[0m                              kwargs)\n\u001b[1;32m     <a href='file:///home/aadil/anaconda3/envs/venv3.8/lib/python3.8/site-packages/apex/amp/wrap.py?line=27'>28</a>\u001b[0m \u001b[39mreturn\u001b[39;00m orig_fn(\u001b[39m*\u001b[39mnew_args, \u001b[39m*\u001b[39m\u001b[39m*\u001b[39mkwargs)\n",
      "File \u001b[0;32m~/anaconda3/envs/venv3.8/lib/python3.8/site-packages/apex/amp/utils.py:80\u001b[0m, in \u001b[0;36mcasted_args\u001b[0;34m(cast_fn, args, kwargs)\u001b[0m\n\u001b[1;32m     <a href='file:///home/aadil/anaconda3/envs/venv3.8/lib/python3.8/site-packages/apex/amp/utils.py?line=77'>78</a>\u001b[0m new_args \u001b[39m=\u001b[39m []\n\u001b[1;32m     <a href='file:///home/aadil/anaconda3/envs/venv3.8/lib/python3.8/site-packages/apex/amp/utils.py?line=78'>79</a>\u001b[0m \u001b[39mfor\u001b[39;00m x \u001b[39min\u001b[39;00m args:\n\u001b[0;32m---> <a href='file:///home/aadil/anaconda3/envs/venv3.8/lib/python3.8/site-packages/apex/amp/utils.py?line=79'>80</a>\u001b[0m     \u001b[39mif\u001b[39;00m is_fp_tensor(x):\n\u001b[1;32m     <a href='file:///home/aadil/anaconda3/envs/venv3.8/lib/python3.8/site-packages/apex/amp/utils.py?line=80'>81</a>\u001b[0m         new_args\u001b[39m.\u001b[39mappend(cast_fn(x))\n\u001b[1;32m     <a href='file:///home/aadil/anaconda3/envs/venv3.8/lib/python3.8/site-packages/apex/amp/utils.py?line=81'>82</a>\u001b[0m     \u001b[39melse\u001b[39;00m:\n",
      "File \u001b[0;32m~/anaconda3/envs/venv3.8/lib/python3.8/site-packages/apex/amp/utils.py:21\u001b[0m, in \u001b[0;36mis_fp_tensor\u001b[0;34m(x)\u001b[0m\n\u001b[1;32m     <a href='file:///home/aadil/anaconda3/envs/venv3.8/lib/python3.8/site-packages/apex/amp/utils.py?line=18'>19</a>\u001b[0m             \u001b[39mreturn\u001b[39;00m \u001b[39mFalse\u001b[39;00m\n\u001b[1;32m     <a href='file:///home/aadil/anaconda3/envs/venv3.8/lib/python3.8/site-packages/apex/amp/utils.py?line=19'>20</a>\u001b[0m     \u001b[39mreturn\u001b[39;00m \u001b[39mTrue\u001b[39;00m\n\u001b[0;32m---> <a href='file:///home/aadil/anaconda3/envs/venv3.8/lib/python3.8/site-packages/apex/amp/utils.py?line=20'>21</a>\u001b[0m \u001b[39mreturn\u001b[39;00m compat\u001b[39m.\u001b[39;49mis_tensor_like(x) \u001b[39mand\u001b[39;00m compat\u001b[39m.\u001b[39mis_floating_point(x)\n",
      "File \u001b[0;32m~/anaconda3/envs/venv3.8/lib/python3.8/site-packages/apex/amp/compat.py:20\u001b[0m, in \u001b[0;36mis_tensor_like\u001b[0;34m(x)\u001b[0m\n\u001b[1;32m     <a href='file:///home/aadil/anaconda3/envs/venv3.8/lib/python3.8/site-packages/apex/amp/compat.py?line=18'>19</a>\u001b[0m \u001b[39mdef\u001b[39;00m \u001b[39mis_tensor_like\u001b[39m(x):\n\u001b[0;32m---> <a href='file:///home/aadil/anaconda3/envs/venv3.8/lib/python3.8/site-packages/apex/amp/compat.py?line=19'>20</a>\u001b[0m     \u001b[39mreturn\u001b[39;00m torch\u001b[39m.\u001b[39;49mis_tensor(x) \u001b[39mor\u001b[39;00m \u001b[39misinstance\u001b[39m(x, torch\u001b[39m.\u001b[39mautograd\u001b[39m.\u001b[39mVariable)\n",
      "File \u001b[0;32m~/anaconda3/envs/venv3.8/lib/python3.8/site-packages/torch/__init__.py:290\u001b[0m, in \u001b[0;36mis_tensor\u001b[0;34m(obj)\u001b[0m\n\u001b[1;32m    <a href='file:///home/aadil/anaconda3/envs/venv3.8/lib/python3.8/site-packages/torch/__init__.py?line=272'>273</a>\u001b[0m \u001b[39mdef\u001b[39;00m \u001b[39mis_tensor\u001b[39m(obj):\n\u001b[1;32m    <a href='file:///home/aadil/anaconda3/envs/venv3.8/lib/python3.8/site-packages/torch/__init__.py?line=273'>274</a>\u001b[0m     \u001b[39mr\u001b[39m\u001b[39m\"\"\"Returns True if `obj` is a PyTorch tensor.\u001b[39;00m\n\u001b[1;32m    <a href='file:///home/aadil/anaconda3/envs/venv3.8/lib/python3.8/site-packages/torch/__init__.py?line=274'>275</a>\u001b[0m \n\u001b[1;32m    <a href='file:///home/aadil/anaconda3/envs/venv3.8/lib/python3.8/site-packages/torch/__init__.py?line=275'>276</a>\u001b[0m \u001b[39m    Note that this function is simply doing ``isinstance(obj, Tensor)``.\u001b[39;00m\n\u001b[0;32m   (...)\u001b[0m\n\u001b[1;32m    <a href='file:///home/aadil/anaconda3/envs/venv3.8/lib/python3.8/site-packages/torch/__init__.py?line=287'>288</a>\u001b[0m \n\u001b[1;32m    <a href='file:///home/aadil/anaconda3/envs/venv3.8/lib/python3.8/site-packages/torch/__init__.py?line=288'>289</a>\u001b[0m \u001b[39m    \"\"\"\u001b[39;00m\n\u001b[0;32m--> <a href='file:///home/aadil/anaconda3/envs/venv3.8/lib/python3.8/site-packages/torch/__init__.py?line=289'>290</a>\u001b[0m     \u001b[39mreturn\u001b[39;00m \u001b[39misinstance\u001b[39m(obj, torch\u001b[39m.\u001b[39;49mTensor)\n",
      "\u001b[0;31mKeyboardInterrupt\u001b[0m: "
     ]
    }
   ],
   "source": [
    "# main training loop\n",
    "start_time = time.time()\n",
    "for epoch in range(init_epoch_idx, init_epoch_idx+args.epochs):        \n",
    "    print_message(logger, f'At epoch {epoch}', level=1)\n",
    "    \n",
    "    for (batch_meta, batch_data) in multi_task_train_dataloader:\n",
    "        batch_meta, batch_data = Collater.patch_data(\n",
    "            torch.device(args.devices[0]),\n",
    "            batch_meta,\n",
    "            batch_data)\n",
    "\n",
    "        task_id = batch_meta['task_id']\n",
    "        model.update(batch_meta, batch_data)\n",
    "\n",
    "        metrics = []\n",
    "\n",
    "        if (model.updates - 1) % (args.log_per_updates) == 0:\n",
    "            # Based on evaluate_model_against_multiple_datasets\n",
    "            for dev_data in dev_data_lst:\n",
    "                metric = get_metric(\n",
    "                    model, \n",
    "                    dev_data, \n",
    "                    metric_meta, \n",
    "                    task_def.task_type, \n",
    "                    device_id, \n",
    "                    task_def.label_vocab.ind2tok, \n",
    "                    model_probe=args.model_probe, \n",
    "                    head_probe=args.head_probe\n",
    "                )[0]\n",
    "                metric = metric[args.metric_of_choice]\n",
    "                metrics.append(metric)\n",
    "\n",
    "            print_message(logger, f\"[e{epoch}] [{model.updates % n_batch_per_epoch}/{n_batch_per_epoch}] train loss: {model.train_loss.avg:.5f} | dev score: {metrics[0]:.5f}\")\n",
    "\n",
    "            if args.wandb:\n",
    "                wandb.log({\n",
    "                    'train/loss': model.train_loss.avg,\n",
    "                    'dev/score': metrics[0],\n",
    "                    'global_step': init_global_step + model.updates,\n",
    "                    'epoch': epoch\n",
    "                })\n",
    "\n",
    "    model_file = save_checkpoint(model, epoch, output_dir)\n",
    "    print_message(logger, f'Saving mt-dnn model to {model_file}')\n",
    "print_message(logger, f'Total time taken: {time.time()-start_time}')"
   ]
  },
  {
   "cell_type": "code",
   "execution_count": 30,
   "id": "06255135",
   "metadata": {},
   "outputs": [],
   "source": [
    "for dev_data in dev_data_lst:\n",
    "    metric = get_metric(\n",
    "        model, \n",
    "        dev_data, \n",
    "        (Metric.SeqEval,), \n",
    "        task_def.task_type, \n",
    "        device_id, \n",
    "        task_def.label_vocab.ind2tok, \n",
    "        model_probe=args.model_probe, \n",
    "        head_probe=args.head_probe\n",
    "    )[0]"
   ]
  },
  {
   "cell_type": "code",
   "execution_count": 34,
   "id": "acaa397b",
   "metadata": {},
   "outputs": [
    {
     "name": "stdout",
     "output_type": "stream",
     "text": [
      "           precision    recall  f1-score   support\n",
      "\n",
      "      PER     0.0110    0.0006    0.0012      4635\n",
      "      LOC     0.0467    0.0029    0.0055      4834\n",
      "      ORG     0.0384    0.0081    0.0134      4677\n",
      "\n",
      "micro avg     0.0030    0.0039    0.0034     14146\n",
      "macro avg     0.0323    0.0039    0.0067     14146\n",
      "\n"
     ]
    }
   ],
   "source": [
    "print(metric['SeqEval'])"
   ]
  },
  {
   "cell_type": "markdown",
   "id": "4509d32d",
   "metadata": {},
   "source": [
    "# Generate model probing results"
   ]
  },
  {
   "cell_type": "code",
   "execution_count": 14,
   "id": "37947fbb",
   "metadata": {},
   "outputs": [],
   "source": [
    "from get_model_probe_results import get_model_probe_scores, get_model_probe_final_score, combine_all_model_probe_scores\n",
    "from experiments.exp_def import (\n",
    "    Experiment,\n",
    "    LingualSetting,\n",
    "    TaskDefs,\n",
    ")\n",
    "from data_utils.metrics import Metric\n",
    "from utils import base_construct_model, create_heatmap\n",
    "from mt_dnn.model import MTDNNModel\n",
    "from pathlib import Path\n",
    "import pandas as pd\n",
    "import numpy as np"
   ]
  },
  {
   "cell_type": "code",
   "execution_count": 21,
   "id": "28720767",
   "metadata": {},
   "outputs": [],
   "source": [
    "device_id = 0\n",
    "finetuned_task = Experiment.FINER\n",
    "finetuned_setting = LingualSetting.CROSS\n",
    "probe_setting = LingualSetting.CROSS\n",
    "probe_task = Experiment.SCITAIL\n",
    "helper = '_base' if finetuned_setting is LingualSetting.BASE else ''\n",
    "model_ckpt = list(Path(f'checkpoint/{finetuned_task.name}{helper}_{probe_task.name}').rglob('*.pt'))[0]\n",
    "out_file_name = 'results.csv'\n",
    "metric_of_choice = 'F1'\n",
    "seed = 2018\n",
    "batch_size = 64\n",
    "max_seq_len = 512"
   ]
  },
  {
   "cell_type": "code",
   "execution_count": 23,
   "id": "0ed16cc1",
   "metadata": {
    "scrolled": true
   },
   "outputs": [
    {
     "name": "stdout",
     "output_type": "stream",
     "text": [
      "model_probe_outputs/mBERT\n",
      "data from experiments/SCITAIL/en/bert-base-cased/scitail_test.json\n",
      "Loaded 2126 samples out of 2126\n"
     ]
    },
    {
     "name": "stderr",
     "output_type": "stream",
     "text": [
      "Some weights of the model checkpoint at bert-base-cased were not used when initializing BertModel: ['cls.predictions.transform.dense.bias', 'cls.predictions.bias', 'cls.predictions.transform.dense.weight', 'cls.predictions.decoder.weight', 'cls.predictions.transform.LayerNorm.weight', 'cls.seq_relationship.bias', 'cls.seq_relationship.weight', 'cls.predictions.transform.LayerNorm.bias']\n",
      "- This IS expected if you are initializing BertModel from the checkpoint of a model trained on another task or with another architecture (e.g. initializing a BertForSequenceClassification model from a BertForPreTraining model).\n",
      "- This IS NOT expected if you are initializing BertModel from the checkpoint of a model that you expect to be exactly identical (initializing a BertForSequenceClassification model from a BertForSequenceClassification model).\n"
     ]
    },
    {
     "name": "stdout",
     "output_type": "stream",
     "text": [
      "\n",
      "mBERT -> SCITAIL [en], probe setting: cross\n",
      "loading from checkpoint/COARSE_base_SCITAIL/model_1_738.pt\n"
     ]
    }
   ],
   "source": [
    "get_model_probe_scores(\n",
    "    finetuned_task,\n",
    "    finetuned_setting,\n",
    "    probe_setting,\n",
    "    probe_task,\n",
    "    model_ckpt,\n",
    "    out_file_name,\n",
    "    metric_of_choice,\n",
    "    device_id,\n",
    "    'en',\n",
    "    seed,\n",
    "    batch_size,\n",
    "    max_seq_len,\n",
    ")"
   ]
  },
  {
   "cell_type": "code",
   "execution_count": 14,
   "id": "a9b9468f",
   "metadata": {},
   "outputs": [
    {
     "data": {
      "text/html": [
       "<div>\n",
       "<style scoped>\n",
       "    .dataframe tbody tr th:only-of-type {\n",
       "        vertical-align: middle;\n",
       "    }\n",
       "\n",
       "    .dataframe tbody tr th {\n",
       "        vertical-align: top;\n",
       "    }\n",
       "\n",
       "    .dataframe thead th {\n",
       "        text-align: right;\n",
       "    }\n",
       "</style>\n",
       "<table border=\"1\" class=\"dataframe\">\n",
       "  <thead>\n",
       "    <tr style=\"text-align: right;\">\n",
       "      <th></th>\n",
       "      <th>WNLI</th>\n",
       "      <th>SCITAIL</th>\n",
       "    </tr>\n",
       "  </thead>\n",
       "  <tbody>\n",
       "    <tr>\n",
       "      <th>2018</th>\n",
       "      <td>41.666667</td>\n",
       "      <td>74.9266</td>\n",
       "    </tr>\n",
       "    <tr>\n",
       "      <th>2019</th>\n",
       "      <td>41.666667</td>\n",
       "      <td>74.9266</td>\n",
       "    </tr>\n",
       "  </tbody>\n",
       "</table>\n",
       "</div>"
      ],
      "text/plain": [
       "           WNLI  SCITAIL\n",
       "2018  41.666667  74.9266\n",
       "2019  41.666667  74.9266"
      ]
     },
     "execution_count": 14,
     "metadata": {},
     "output_type": "execute_result"
    }
   ],
   "source": [
    "df = pd.read_csv('/home/aadil/bert-probing/model_probe_outputs/FINER_cross/results.csv', index_col=0)\n",
    "df"
   ]
  },
  {
   "cell_type": "code",
   "execution_count": 18,
   "id": "72c99e21",
   "metadata": {},
   "outputs": [
    {
     "data": {
      "text/html": [
       "<div>\n",
       "<style scoped>\n",
       "    .dataframe tbody tr th:only-of-type {\n",
       "        vertical-align: middle;\n",
       "    }\n",
       "\n",
       "    .dataframe tbody tr th {\n",
       "        vertical-align: top;\n",
       "    }\n",
       "\n",
       "    .dataframe thead th {\n",
       "        text-align: right;\n",
       "    }\n",
       "</style>\n",
       "<table border=\"1\" class=\"dataframe\">\n",
       "  <thead>\n",
       "    <tr style=\"text-align: right;\">\n",
       "      <th></th>\n",
       "      <th>0</th>\n",
       "      <th>1</th>\n",
       "      <th>2</th>\n",
       "      <th>3</th>\n",
       "    </tr>\n",
       "  </thead>\n",
       "  <tbody>\n",
       "    <tr>\n",
       "      <th>2018</th>\n",
       "      <td>1.0</td>\n",
       "      <td>2.0</td>\n",
       "      <td>3.0</td>\n",
       "      <td>4.0</td>\n",
       "    </tr>\n",
       "    <tr>\n",
       "      <th>2019</th>\n",
       "      <td>4.0</td>\n",
       "      <td>5.0</td>\n",
       "      <td>6.0</td>\n",
       "      <td>7.0</td>\n",
       "    </tr>\n",
       "    <tr>\n",
       "      <th>2020</th>\n",
       "      <td>6.0</td>\n",
       "      <td>7.0</td>\n",
       "      <td>8.0</td>\n",
       "      <td>9.0</td>\n",
       "    </tr>\n",
       "    <tr>\n",
       "      <th>2021</th>\n",
       "      <td>NaN</td>\n",
       "      <td>NaN</td>\n",
       "      <td>NaN</td>\n",
       "      <td>NaN</td>\n",
       "    </tr>\n",
       "  </tbody>\n",
       "</table>\n",
       "</div>"
      ],
      "text/plain": [
       "        0    1    2    3\n",
       "2018  1.0  2.0  3.0  4.0\n",
       "2019  4.0  5.0  6.0  7.0\n",
       "2020  6.0  7.0  8.0  9.0\n",
       "2021  NaN  NaN  NaN  NaN"
      ]
     },
     "execution_count": 18,
     "metadata": {},
     "output_type": "execute_result"
    }
   ],
   "source": [
    "import numpy as np\n",
    "import pandas as pd\n",
    "data = np.array([[1,2,3,4],[4,5,6,7],[6,7,8,9]])\n",
    "df = pd.DataFrame(data)\n",
    "df.index = [2018,2019,2020]\n",
    "df.loc[2021] = np.nan\n",
    "df"
   ]
  },
  {
   "cell_type": "code",
   "execution_count": 24,
   "id": "ee587945",
   "metadata": {},
   "outputs": [],
   "source": [
    "get_model_probe_final_score(Experiment.COARSE, LingualSetting.CROSS)\n",
    "get_model_probe_final_score(Experiment.FINER, LingualSetting.CROSS)\n",
    "combine_all_model_probe_scores(mean=True, std=True)"
   ]
  },
  {
   "cell_type": "code",
   "execution_count": 15,
   "id": "9c516190",
   "metadata": {},
   "outputs": [
    {
     "data": {
      "text/html": [
       "<div>\n",
       "<style scoped>\n",
       "    .dataframe tbody tr th:only-of-type {\n",
       "        vertical-align: middle;\n",
       "    }\n",
       "\n",
       "    .dataframe tbody tr th {\n",
       "        vertical-align: top;\n",
       "    }\n",
       "\n",
       "    .dataframe thead th {\n",
       "        text-align: right;\n",
       "    }\n",
       "</style>\n",
       "<table border=\"1\" class=\"dataframe\">\n",
       "  <thead>\n",
       "    <tr style=\"text-align: right;\">\n",
       "      <th></th>\n",
       "      <th>Unnamed: 0</th>\n",
       "      <th>GOEMOTIONS</th>\n",
       "      <th>NER</th>\n",
       "      <th>POS</th>\n",
       "      <th>SST5</th>\n",
       "      <th>PAWSX</th>\n",
       "      <th>COLA</th>\n",
       "      <th>MRPC</th>\n",
       "      <th>SCITAIL</th>\n",
       "      <th>WNLI</th>\n",
       "    </tr>\n",
       "  </thead>\n",
       "  <tbody>\n",
       "    <tr>\n",
       "      <th>0</th>\n",
       "      <td>COARSE_cross</td>\n",
       "      <td>-1.145294</td>\n",
       "      <td>-4.382786</td>\n",
       "      <td>-2.357250</td>\n",
       "      <td>-0.902314</td>\n",
       "      <td>-0.470136</td>\n",
       "      <td>-1.479455</td>\n",
       "      <td>0.003473</td>\n",
       "      <td>1.277464</td>\n",
       "      <td>16.361873</td>\n",
       "    </tr>\n",
       "    <tr>\n",
       "      <th>1</th>\n",
       "      <td>FINER_cross</td>\n",
       "      <td>0.243428</td>\n",
       "      <td>-5.268007</td>\n",
       "      <td>-2.099952</td>\n",
       "      <td>3.035971</td>\n",
       "      <td>-0.817050</td>\n",
       "      <td>4.178522</td>\n",
       "      <td>-0.286238</td>\n",
       "      <td>1.444049</td>\n",
       "      <td>7.075630</td>\n",
       "    </tr>\n",
       "  </tbody>\n",
       "</table>\n",
       "</div>"
      ],
      "text/plain": [
       "     Unnamed: 0  GOEMOTIONS       NER       POS      SST5     PAWSX      COLA  \\\n",
       "0  COARSE_cross   -1.145294 -4.382786 -2.357250 -0.902314 -0.470136 -1.479455   \n",
       "1   FINER_cross    0.243428 -5.268007 -2.099952  3.035971 -0.817050  4.178522   \n",
       "\n",
       "       MRPC   SCITAIL       WNLI  \n",
       "0  0.003473  1.277464  16.361873  \n",
       "1 -0.286238  1.444049   7.075630  "
      ]
     },
     "execution_count": 15,
     "metadata": {},
     "output_type": "execute_result"
    }
   ],
   "source": [
    "combined_df = pd.read_csv('/home/aadil/bert-probing/model_probe_outputs/final_results_mean.csv')\n",
    "combined_df"
   ]
  },
  {
   "cell_type": "code",
   "execution_count": 16,
   "id": "7354639e",
   "metadata": {},
   "outputs": [
    {
     "data": {
      "text/html": [
       "<div>\n",
       "<style scoped>\n",
       "    .dataframe tbody tr th:only-of-type {\n",
       "        vertical-align: middle;\n",
       "    }\n",
       "\n",
       "    .dataframe tbody tr th {\n",
       "        vertical-align: top;\n",
       "    }\n",
       "\n",
       "    .dataframe thead th {\n",
       "        text-align: right;\n",
       "    }\n",
       "</style>\n",
       "<table border=\"1\" class=\"dataframe\">\n",
       "  <thead>\n",
       "    <tr style=\"text-align: right;\">\n",
       "      <th></th>\n",
       "      <th>Unnamed: 0</th>\n",
       "      <th>GOEMOTIONS</th>\n",
       "      <th>NER</th>\n",
       "      <th>POS</th>\n",
       "      <th>SST5</th>\n",
       "      <th>PAWSX</th>\n",
       "      <th>COLA</th>\n",
       "      <th>MRPC</th>\n",
       "      <th>SCITAIL</th>\n",
       "      <th>WNLI</th>\n",
       "    </tr>\n",
       "  </thead>\n",
       "  <tbody>\n",
       "    <tr>\n",
       "      <th>0</th>\n",
       "      <td>COARSE_cross</td>\n",
       "      <td>-1.018348</td>\n",
       "      <td>-4.288561</td>\n",
       "      <td>-1.754153</td>\n",
       "      <td>-1.263975</td>\n",
       "      <td>-0.214446</td>\n",
       "      <td>-1.476020</td>\n",
       "      <td>0.105056</td>\n",
       "      <td>2.254502</td>\n",
       "      <td>14.915966</td>\n",
       "    </tr>\n",
       "    <tr>\n",
       "      <th>1</th>\n",
       "      <td>FINER_cross</td>\n",
       "      <td>1.187120</td>\n",
       "      <td>-5.611468</td>\n",
       "      <td>-1.029442</td>\n",
       "      <td>5.016816</td>\n",
       "      <td>-0.460245</td>\n",
       "      <td>6.776983</td>\n",
       "      <td>-0.498211</td>\n",
       "      <td>1.948544</td>\n",
       "      <td>9.523810</td>\n",
       "    </tr>\n",
       "  </tbody>\n",
       "</table>\n",
       "</div>"
      ],
      "text/plain": [
       "     Unnamed: 0  GOEMOTIONS       NER       POS      SST5     PAWSX      COLA  \\\n",
       "0  COARSE_cross   -1.018348 -4.288561 -1.754153 -1.263975 -0.214446 -1.476020   \n",
       "1   FINER_cross    1.187120 -5.611468 -1.029442  5.016816 -0.460245  6.776983   \n",
       "\n",
       "       MRPC   SCITAIL       WNLI  \n",
       "0  0.105056  2.254502  14.915966  \n",
       "1 -0.498211  1.948544   9.523810  "
      ]
     },
     "execution_count": 16,
     "metadata": {},
     "output_type": "execute_result"
    }
   ],
   "source": [
    "combined_df = pd.read_csv('/home/aadil/bert-probing/model_probe_outputs_history/seed_2018_only/final_results_mean.csv')\n",
    "combined_df"
   ]
  },
  {
   "cell_type": "markdown",
   "id": "b72239b2",
   "metadata": {},
   "source": [
    "# Automate model probing"
   ]
  },
  {
   "cell_type": "code",
   "execution_count": null,
   "id": "f1d4da2e",
   "metadata": {},
   "outputs": [],
   "source": [
    "specs = {task_1: {parameter_1: value, ...}, ...}\n",
    "for seed in [2019]:\n",
    "    finetune COARSE_cross and save COARSE_base with seed\n",
    "    (python train.py --devices 2 --exp_name COARSE_cross --dataset_name COARSE/en --wandb --epochs 5 --batch_size 16 --learning_rate 5e-5 --grad_accumulation_step 4 --bert_model_type bert-base-cased --fp16 --metric_of_choice MCC --resume --huggingface_ckpt --model_ckpt /home/aadil/mt-dnn/mt_dnn_models/bert_model_base_cased.pt)\n",
    "    finetune FINER_cross with seed\n",
    "    (python train.py --devices 2 --exp_name COARSE_cross --dataset_name COARSE/en --wandb --epochs 5 --batch_size 16 --learning_rate 5e-5 --grad_accumulation_step 4 --bert_model_type bert-base-cased --fp16 --metric_of_choice MCC --resume --huggingface_ckpt --model_ckpt /home/aadil/mt-dnn/mt_dnn_models/bert_model_base_cased.pt)\n",
    "    for task in DOWNSTREAM TASKS:\n",
    "        model probe COARSE_base_{task} with specs\n",
    "        model probe COARSE_{task} with specs\n",
    "        model probe COARSE_{task} with specs\n",
    "        (python train.py --devices 2 --model_probe --model_probe_n_classes 2 --exp_name COARSE_PAWS --dataset_name PAWSX/en --wandb --epochs 2 --batch_size 64 --learning_rate 5e-3 --bert_model_type bert-base-cased --model_ckpt checkpoint/COARSE_cross/model_4_625.pt --metric_of_choice F1MAC --fp16)\n",
    "        run get_model_probe_scores(...)\n",
    "    delete all .pt files from checkpoint folder\n",
    "get_model_probe_final_score(Experiment.COARSE, LingualSetting.CROSS)\n",
    "get_model_probe_final_score(Experiment.FINER, LingualSetting.CROSS)\n",
    "combine_all_model_probe_scores(mean=True, std=True)"
   ]
  },
  {
   "cell_type": "markdown",
   "id": "9cdb62c6",
   "metadata": {},
   "source": [
    "# Fix MRPC test set labels"
   ]
  },
  {
   "cell_type": "code",
   "execution_count": 31,
   "id": "5b176e0f",
   "metadata": {},
   "outputs": [],
   "source": [
    "labels = []\n",
    "with open('/home/aadil/mt-dnn/data/MRPC/msr_paraphrase_test.txt', 'r') as file:\n",
    "    for line in file:\n",
    "        try:\n",
    "            labels.append(int(line.strip().split('\\t')[0]))\n",
    "        except:\n",
    "            pass\n",
    "lines = []\n",
    "with open('/home/aadil/mt-dnn/data/canonical_data/mrpc_test.tsv', 'r') as file:\n",
    "    for line, label in zip(file, labels):\n",
    "        items = line.split('\\t')\n",
    "        items[1] = str(label)\n",
    "        lines.append('\\t'.join(items))\n",
    "with open('/home/aadil/mt-dnn/data/canonical_data/mrpc_test_replacement.tsv', 'w') as file:\n",
    "    file.writelines(lines)"
   ]
  },
  {
   "cell_type": "markdown",
   "id": "e26c3af6",
   "metadata": {},
   "source": [
    "# Loading latest coarsegrained/finergrained datasets"
   ]
  },
  {
   "cell_type": "code",
   "execution_count": null,
   "id": "124f3370",
   "metadata": {},
   "outputs": [],
   "source": [
    "import pandas as pd"
   ]
  },
  {
   "cell_type": "code",
   "execution_count": 25,
   "id": "d5b92622",
   "metadata": {},
   "outputs": [],
   "source": [
    "for split in ['train', 'dev', 'test']:\n",
    "    df = pd.read_csv(f'./drive-download-20220516T122116Z-001/intl_{split}_recleaned.csv')\n",
    "    df['text'] = df['text'].str.replace('\\n', ' ')\n",
    "    df.to_csv(f'./experiments/COARSE/en/coarse_{split}.tsv', sep='\\t', columns=['place', 'text'], index=True, header=False)\n",
    "for split in ['train', 'dev', 'test']:\n",
    "    df = pd.read_csv(f'./drive-download-20220516T122116Z-001/us_{split}_recleaned.csv')\n",
    "    df['text'] = df['text'].str.replace('\\n', ' ')\n",
    "    df.to_csv(f'./experiments/FINER/en/finer_{split}.tsv', sep='\\t', columns=['place', 'text'], index=True, header=False)"
   ]
  },
  {
   "cell_type": "markdown",
   "id": "08706fc1",
   "metadata": {},
   "source": [
    "# Reformatting SST2 and creating EMOTION"
   ]
  },
  {
   "cell_type": "code",
   "execution_count": 30,
   "id": "f468fe29",
   "metadata": {},
   "outputs": [],
   "source": [
    "import pandas as pd\n",
    "from pathlib import Path\n",
    "from datasets import load_dataset, Dataset"
   ]
  },
  {
   "cell_type": "code",
   "execution_count": 27,
   "id": "7cb352d6",
   "metadata": {},
   "outputs": [
    {
     "data": {
      "text/html": [
       "<div>\n",
       "<style scoped>\n",
       "    .dataframe tbody tr th:only-of-type {\n",
       "        vertical-align: middle;\n",
       "    }\n",
       "\n",
       "    .dataframe tbody tr th {\n",
       "        vertical-align: top;\n",
       "    }\n",
       "\n",
       "    .dataframe thead th {\n",
       "        text-align: right;\n",
       "    }\n",
       "</style>\n",
       "<table border=\"1\" class=\"dataframe\">\n",
       "  <thead>\n",
       "    <tr style=\"text-align: right;\">\n",
       "      <th></th>\n",
       "      <th>sentence</th>\n",
       "      <th>label</th>\n",
       "    </tr>\n",
       "  </thead>\n",
       "  <tbody>\n",
       "    <tr>\n",
       "      <th>0</th>\n",
       "      <td>hide new secretions from the parental units</td>\n",
       "      <td>0</td>\n",
       "    </tr>\n",
       "    <tr>\n",
       "      <th>1</th>\n",
       "      <td>contains no wit , only labored gags</td>\n",
       "      <td>0</td>\n",
       "    </tr>\n",
       "    <tr>\n",
       "      <th>2</th>\n",
       "      <td>that loves its characters and communicates something rather beautiful about human nature</td>\n",
       "      <td>1</td>\n",
       "    </tr>\n",
       "    <tr>\n",
       "      <th>3</th>\n",
       "      <td>remains utterly satisfied to remain the same throughout</td>\n",
       "      <td>0</td>\n",
       "    </tr>\n",
       "    <tr>\n",
       "      <th>4</th>\n",
       "      <td>on the worst revenge-of-the-nerds clichés the filmmakers could dredge up</td>\n",
       "      <td>0</td>\n",
       "    </tr>\n",
       "    <tr>\n",
       "      <th>...</th>\n",
       "      <td>...</td>\n",
       "      <td>...</td>\n",
       "    </tr>\n",
       "    <tr>\n",
       "      <th>67344</th>\n",
       "      <td>a delightful comedy</td>\n",
       "      <td>1</td>\n",
       "    </tr>\n",
       "    <tr>\n",
       "      <th>67345</th>\n",
       "      <td>anguish , anger and frustration</td>\n",
       "      <td>0</td>\n",
       "    </tr>\n",
       "    <tr>\n",
       "      <th>67346</th>\n",
       "      <td>at achieving the modest , crowd-pleasing goals it sets for itself</td>\n",
       "      <td>1</td>\n",
       "    </tr>\n",
       "    <tr>\n",
       "      <th>67347</th>\n",
       "      <td>a patient viewer</td>\n",
       "      <td>1</td>\n",
       "    </tr>\n",
       "    <tr>\n",
       "      <th>67348</th>\n",
       "      <td>this new jangle of noise , mayhem and stupidity must be a serious contender for the title .</td>\n",
       "      <td>0</td>\n",
       "    </tr>\n",
       "  </tbody>\n",
       "</table>\n",
       "<p>67349 rows × 2 columns</p>\n",
       "</div>"
      ],
      "text/plain": [
       "                                                                                           sentence  \\\n",
       "0                                                      hide new secretions from the parental units    \n",
       "1                                                              contains no wit , only labored gags    \n",
       "2         that loves its characters and communicates something rather beautiful about human nature    \n",
       "3                                          remains utterly satisfied to remain the same throughout    \n",
       "4                         on the worst revenge-of-the-nerds clichés the filmmakers could dredge up    \n",
       "...                                                                                             ...   \n",
       "67344                                                                          a delightful comedy    \n",
       "67345                                                              anguish , anger and frustration    \n",
       "67346                            at achieving the modest , crowd-pleasing goals it sets for itself    \n",
       "67347                                                                             a patient viewer    \n",
       "67348  this new jangle of noise , mayhem and stupidity must be a serious contender for the title .    \n",
       "\n",
       "       label  \n",
       "0          0  \n",
       "1          0  \n",
       "2          1  \n",
       "3          0  \n",
       "4          0  \n",
       "...      ...  \n",
       "67344      1  \n",
       "67345      0  \n",
       "67346      1  \n",
       "67347      1  \n",
       "67348      0  \n",
       "\n",
       "[67349 rows x 2 columns]"
      ]
     },
     "execution_count": 27,
     "metadata": {},
     "output_type": "execute_result"
    }
   ],
   "source": [
    "df = pd.read_csv('../mt-dnn/data/SST-2/train.tsv', sep='\\t')\n",
    "df"
   ]
  },
  {
   "cell_type": "code",
   "execution_count": 41,
   "id": "5d0a8399",
   "metadata": {},
   "outputs": [],
   "source": [
    "def _prepare_data(path, task_name, out_dir):\n",
    "    out_dir.mkdir(parents=True, exist_ok=True)\n",
    "\n",
    "    for split in ['train', 'validation', 'test']:\n",
    "        final_out_file = out_dir.joinpath(f'{task_name}_{split if split != \"validation\" else \"dev\"}.tsv')\n",
    "        out_file = out_dir.joinpath(f'{task_name}_{split if split != \"validation\" else \"dev\"}_tmp.json')\n",
    "\n",
    "        if Path(final_out_file).is_file():\n",
    "            continue\n",
    "        \n",
    "        if not Path(out_file).is_file():\n",
    "            dataset = load_dataset(path, split=split)\n",
    "            dataset.to_json(out_file)\n",
    "        \n",
    "        # load and save as tsv in mtdnn format\n",
    "        df = Dataset.from_json(str(out_file))\n",
    "        with open(final_out_file, 'w') as f:\n",
    "            for i, row in enumerate(df):\n",
    "                text = row['text']\n",
    "                label = int(row['label'])\n",
    "                f.write(f'{i}\\t{label}\\t{text}\\n')"
   ]
  },
  {
   "cell_type": "code",
   "execution_count": null,
   "id": "243c4151",
   "metadata": {},
   "outputs": [],
   "source": [
    "_prepare_data('gpt3mix/sst2', 'sst2', Path('/home/aadil/bert-probing/experiments/SST2/en'))"
   ]
  },
  {
   "cell_type": "code",
   "execution_count": null,
   "id": "c0cf3425",
   "metadata": {},
   "outputs": [],
   "source": [
    "_prepare_data('emotion', 'emotion', Path('/home/aadil/bert-probing/experiments/EMOTION/en'))"
   ]
  },
  {
   "cell_type": "markdown",
   "id": "5387ecf3",
   "metadata": {},
   "source": [
    "# Attention Head, Stage 1"
   ]
  },
  {
   "cell_type": "code",
   "execution_count": 1,
   "id": "1f5ddc04",
   "metadata": {},
   "outputs": [
    {
     "name": "stderr",
     "output_type": "stream",
     "text": [
      "/home/aadil/anaconda3/envs/venv3.8/lib/python3.8/site-packages/apex/pyprof/__init__.py:5: FutureWarning: pyprof will be removed by the end of June, 2022\n",
      "  warnings.warn(\"pyprof will be removed by the end of June, 2022\", FutureWarning)\n"
     ]
    }
   ],
   "source": [
    "from experiments.exp_def import LingualSetting, Experiment, TaskDef, TaskDefs\n",
    "from pathlib import Path\n",
    "from mt_dnn.model import MTDNNModel\n",
    "from mt_dnn.batcher import SingleTaskDataset, Collater\n",
    "from data_utils.task_def import EncoderModelType\n",
    "import torch.nn.functional as F\n",
    "from torch.utils.data import DataLoader\n",
    "import torch\n",
    "from tqdm import tqdm\n",
    "import einops\n",
    "from apex import amp\n",
    "import matplotlib.pyplot as plt\n",
    "import seaborn as sns\n",
    "from transformers import BertTokenizer\n",
    "import string\n",
    "import numpy as np\n",
    "from attention_flow import get_attention"
   ]
  },
  {
   "cell_type": "code",
   "execution_count": 2,
   "id": "31dd4d21",
   "metadata": {},
   "outputs": [],
   "source": [
    "devices = [0, 1]\n",
    "batch_size = 8\n",
    "bert_model_type = 'bert-base-cased'\n",
    "font_scale = 0.7\n",
    "figure_size = (15, 7)\n",
    "cbar = False"
   ]
  },
  {
   "cell_type": "code",
   "execution_count": 3,
   "id": "039c4187",
   "metadata": {},
   "outputs": [],
   "source": [
    "def load_data(data_file, task_def, language):\n",
    "    \"\"\"\n",
    "    Create the test dataloader to use.\n",
    "\n",
    "    Args:\n",
    "    data_file: The JSON test data file\n",
    "    task_def: Path to the task_def.\n",
    "    language: Specific language to use.\n",
    "    \"\"\"\n",
    "    test_data_set = SingleTaskDataset(\n",
    "        data_file,\n",
    "        is_train=False,\n",
    "        task_def=task_def,\n",
    "    )\n",
    "\n",
    "    collater = Collater(is_train=False, encoder_type=EncoderModelType.BERT)\n",
    "    test_data = DataLoader(\n",
    "        test_data_set,\n",
    "        batch_size=batch_size,\n",
    "        collate_fn=collater.collate_fn,\n",
    "        pin_memory=True)\n",
    "\n",
    "    return test_data\n",
    "\n",
    "def create_model(finetuned_task: Experiment, setting: LingualSetting, device_id: int):\n",
    "    \"\"\"\n",
    "    Create the MT-DNN model, finetuend on finetuned_task in the {base, cross}-lingual setting.\n",
    "    \"\"\"\n",
    "    checkpoint_dir = Path('checkpoint').joinpath(f'{finetuned_task.name}_{setting.name.lower()}')\n",
    "    checkpoint_file = list(checkpoint_dir.rglob('*.pt'))[0]\n",
    "    state_dict = torch.load(checkpoint_file)\n",
    "    del state_dict['optimizer']\n",
    "\n",
    "    language = 'en'\n",
    "    task_def_path = Path(f'experiments').joinpath(\n",
    "        finetuned_task.name,\n",
    "        language,\n",
    "        'task_def.yaml')\n",
    "    task_def = TaskDefs(task_def_path).get_task_def(finetuned_task.name.lower())\n",
    "    task_def_list = [task_def]\n",
    "    config = state_dict['config']\n",
    "    config['task_def_list'] = task_def_list\n",
    "\n",
    "    model = MTDNNModel(config, state_dict=state_dict, devices=[device_id])\n",
    "    model.network.eval()\n",
    "\n",
    "    data_file = Path(f'experiments/{finetuned_task.name}/').joinpath(language, bert_model_type, f'{finetuned_task.name.lower()}_test.json')\n",
    "    test_data = load_data(data_file, task_def, language)\n",
    "\n",
    "    with torch.no_grad():\n",
    "        attentions_lst = []\n",
    "        input_ids_lst = []\n",
    "        for batch_meta, batch_data in tqdm(test_data):\n",
    "            attentions, input_ids = get_attention(model, batch_meta, batch_data, device_id)\n",
    "            # stack and rearrange to b, n_layers, n_heads, seq_len, seq_len\n",
    "            attentions = torch.stack(attentions, dim=0)\n",
    "            attentions = einops.rearrange(attentions, 'l b h x y -> b l h x y')\n",
    "            attentions_lst.append(attentions)\n",
    "            input_ids_lst.append(input_ids)\n",
    "    \n",
    "    return attentions_lst, input_ids_lst"
   ]
  },
  {
   "cell_type": "code",
   "execution_count": 5,
   "id": "35a9ffef",
   "metadata": {},
   "outputs": [
    {
     "name": "stdout",
     "output_type": "stream",
     "text": [
      "/home/aadil/anaconda3/envs/venv3.8/lib/python3.8/site-packages/apex/pyprof/__init__.py:5: FutureWarning: pyprof will be removed by the end of June, 2022\n",
      "  warnings.warn(\"pyprof will be removed by the end of June, 2022\", FutureWarning)\n",
      "^C\n",
      "Traceback (most recent call last):\n",
      "  File \"run_bertology.py\", line 434, in <module>\n",
      "    main()\n",
      "  File \"run_bertology.py\", line 409, in main\n",
      "    model = MTDNNModel(opt, state_dict=state_dict, devices=[device])\n",
      "  File \"/home/aadil/bert-probing/mt_dnn/model.py\", line 35, in __init__\n",
      "    model = SANBertNetwork(opt)\n",
      "  File \"/home/aadil/bert-probing/mt_dnn/matcher.py\", line 33, in __init__\n",
      "    self.bert = model_class.from_pretrained(opt['init_checkpoint'], cache_dir=opt['transformer_cache'])\n",
      "  File \"/home/aadil/anaconda3/envs/venv3.8/lib/python3.8/site-packages/transformers/modeling_utils.py\", line 1173, in from_pretrained\n",
      "    model = cls(config, *model_args, **model_kwargs)\n",
      "  File \"/home/aadil/anaconda3/envs/venv3.8/lib/python3.8/site-packages/transformers/models/bert/modeling_bert.py\", line 2744, in __init__\n",
      "    self.encoder = BertEncoder(config)\n",
      "  File \"/home/aadil/anaconda3/envs/venv3.8/lib/python3.8/site-packages/transformers/models/bert/modeling_bert.py\", line 2389, in __init__\n",
      "    self.layer = nn.ModuleList([BertLayer(config) for _ in range(config.num_hidden_layers)])\n",
      "  File \"/home/aadil/anaconda3/envs/venv3.8/lib/python3.8/site-packages/transformers/models/bert/modeling_bert.py\", line 2389, in <listcomp>\n",
      "    self.layer = nn.ModuleList([BertLayer(config) for _ in range(config.num_hidden_layers)])\n",
      "  File \"/home/aadil/anaconda3/envs/venv3.8/lib/python3.8/site-packages/transformers/models/bert/modeling_bert.py\", line 2301, in __init__\n",
      "    self.attention = BertAttention(config)\n",
      "  File \"/home/aadil/anaconda3/envs/venv3.8/lib/python3.8/site-packages/transformers/models/bert/modeling_bert.py\", line 2213, in __init__\n",
      "    self.self = BertSelfAttention(config)\n",
      "  File \"/home/aadil/anaconda3/envs/venv3.8/lib/python3.8/site-packages/transformers/models/bert/modeling_bert.py\", line 2060, in __init__\n",
      "    self.value = nn.Linear(config.hidden_size, self.all_head_size)\n",
      "  File \"/home/aadil/anaconda3/envs/venv3.8/lib/python3.8/site-packages/torch/nn/modules/linear.py\", line 90, in __init__\n",
      "    self.reset_parameters()\n",
      "  File \"/home/aadil/anaconda3/envs/venv3.8/lib/python3.8/site-packages/torch/nn/modules/linear.py\", line 96, in reset_parameters\n",
      "    init.kaiming_uniform_(self.weight, a=math.sqrt(5))\n",
      "  File \"/home/aadil/anaconda3/envs/venv3.8/lib/python3.8/site-packages/torch/nn/init.py\", line 410, in kaiming_uniform_\n",
      "    return tensor.uniform_(-bound, bound)\n",
      "KeyboardInterrupt\n"
     ]
    }
   ],
   "source": [
    "!python run_bertology.py --seed 2018 --task coarse --task_def 'experiments/COARSE/en/task_def.yaml' --checkpoint 'checkpoint/COARSE_cross/model_4_125.pt' --output_dir 'bertviz_outputs/COARSE_cross' --prep_input 'experiments/COARSE/en/bert-base-cased/coarse_test.json' --cuda True --batch_size 8"
   ]
  },
  {
   "cell_type": "code",
   "execution_count": 4,
   "id": "b7844963",
   "metadata": {},
   "outputs": [
    {
     "name": "stderr",
     "output_type": "stream",
     "text": [
      "Some weights of the model checkpoint at bert-base-cased were not used when initializing BertModel: ['cls.seq_relationship.weight', 'cls.predictions.transform.LayerNorm.weight', 'cls.predictions.bias', 'cls.predictions.transform.dense.weight', 'cls.seq_relationship.bias', 'cls.predictions.transform.dense.bias', 'cls.predictions.decoder.weight', 'cls.predictions.transform.LayerNorm.bias']\n",
      "- This IS expected if you are initializing BertModel from the checkpoint of a model trained on another task or with another architecture (e.g. initializing a BertForSequenceClassification model from a BertForPreTraining model).\n",
      "- This IS NOT expected if you are initializing BertModel from the checkpoint of a model that you expect to be exactly identical (initializing a BertForSequenceClassification model from a BertForSequenceClassification model).\n"
     ]
    },
    {
     "name": "stdout",
     "output_type": "stream",
     "text": [
      "Selected optimization level O1:  Insert automatic casts around Pytorch functions and Tensor methods.\n",
      "\n",
      "Defaults for this optimization level are:\n",
      "enabled                : True\n",
      "opt_level              : O1\n",
      "cast_model_type        : None\n",
      "patch_torch_functions  : True\n",
      "keep_batchnorm_fp32    : None\n",
      "master_weights         : None\n",
      "loss_scale             : dynamic\n",
      "Processing user overrides (additional kwargs that are not None)...\n",
      "After processing overrides, optimization options are:\n",
      "enabled                : True\n",
      "opt_level              : O1\n",
      "cast_model_type        : None\n",
      "patch_torch_functions  : True\n",
      "keep_batchnorm_fp32    : None\n",
      "master_weights         : None\n",
      "loss_scale             : dynamic\n",
      "Warning:  multi_tensor_applier fused unscale kernel is unavailable, possibly because apex was installed without --cuda_ext --cpp_ext. Using Python fallback.  Original ImportError was: ModuleNotFoundError(\"No module named 'amp_C'\")\n",
      "Loaded 200 samples out of 200\n"
     ]
    },
    {
     "name": "stderr",
     "output_type": "stream",
     "text": [
      "100%|██████████| 25/25 [00:00<00:00, 68.04it/s]\n",
      "Some weights of the model checkpoint at bert-base-cased were not used when initializing BertModel: ['cls.seq_relationship.weight', 'cls.predictions.transform.LayerNorm.weight', 'cls.predictions.bias', 'cls.predictions.transform.dense.weight', 'cls.seq_relationship.bias', 'cls.predictions.transform.dense.bias', 'cls.predictions.decoder.weight', 'cls.predictions.transform.LayerNorm.bias']\n",
      "- This IS expected if you are initializing BertModel from the checkpoint of a model trained on another task or with another architecture (e.g. initializing a BertForSequenceClassification model from a BertForPreTraining model).\n",
      "- This IS NOT expected if you are initializing BertModel from the checkpoint of a model that you expect to be exactly identical (initializing a BertForSequenceClassification model from a BertForSequenceClassification model).\n"
     ]
    },
    {
     "name": "stdout",
     "output_type": "stream",
     "text": [
      "Selected optimization level O1:  Insert automatic casts around Pytorch functions and Tensor methods.\n",
      "\n",
      "Defaults for this optimization level are:\n",
      "enabled                : True\n",
      "opt_level              : O1\n",
      "cast_model_type        : None\n",
      "patch_torch_functions  : True\n",
      "keep_batchnorm_fp32    : None\n",
      "master_weights         : None\n",
      "loss_scale             : dynamic\n",
      "Processing user overrides (additional kwargs that are not None)...\n",
      "After processing overrides, optimization options are:\n",
      "enabled                : True\n",
      "opt_level              : O1\n",
      "cast_model_type        : None\n",
      "patch_torch_functions  : True\n",
      "keep_batchnorm_fp32    : None\n",
      "master_weights         : None\n",
      "loss_scale             : dynamic\n",
      "Loaded 200 samples out of 200\n"
     ]
    },
    {
     "name": "stderr",
     "output_type": "stream",
     "text": [
      "100%|██████████| 25/25 [00:00<00:00, 64.94it/s]\n"
     ]
    }
   ],
   "source": [
    "base_attentions, input_ids = create_model(Experiment.FINER, LingualSetting.BASE, 0)\n",
    "finer_attentions, input_ids = create_model(Experiment.FINER, LingualSetting.CROSS, 1)"
   ]
  },
  {
   "cell_type": "code",
   "execution_count": 6,
   "id": "b172f885",
   "metadata": {},
   "outputs": [],
   "source": [
    "tokenizer = BertTokenizer.from_pretrained(bert_model_type)"
   ]
  },
  {
   "cell_type": "code",
   "execution_count": 7,
   "id": "b97a9892",
   "metadata": {},
   "outputs": [],
   "source": [
    "def sample(attention_maps, input_ids, i, punctuation=False, special_tokens=False): \n",
    "    remove_ids = [0] # 0 -> PAD\n",
    "    if not (punctuation or special_tokens):\n",
    "        if not punctuation:\n",
    "            remove_ids.extend([tokenizer.vocab[c] for c in string.punctuation if c in tokenizer.vocab])\n",
    "        if not special_tokens:\n",
    "            remove_ids.extend([101, 102]) # 101 -> CLS, 102 -> SEP\n",
    "    remove_ids = torch.tensor(remove_ids)\n",
    "    mask = ~torch.isin(input_ids[i//batch_size][i%batch_size].cpu(), remove_ids)\n",
    "    return attention_maps[i//batch_size][i%batch_size, :, :, mask, :][:, :, :, mask].cpu().numpy(), input_ids[i//batch_size][i%batch_size, mask].cpu().numpy()"
   ]
  },
  {
   "cell_type": "code",
   "execution_count": 12,
   "id": "e53f2820",
   "metadata": {},
   "outputs": [
    {
     "data": {
      "text/plain": [
       "'The consumer price index is expected to show a moderate gain in inflation of 0 4 in February or 0 1 when excluding food and energy The market is closely watching the number as debate swirls around whether a surge in the economy – boosted by fiscal stimulus – will lead to high inflation'"
      ]
     },
     "execution_count": 12,
     "metadata": {},
     "output_type": "execute_result"
    }
   ],
   "source": [
    "_, ip = sample(base_attentions, input_ids, 133)\n",
    "tokenizer.decode(ip)"
   ]
  },
  {
   "cell_type": "code",
   "execution_count": 9,
   "id": "edeb84fe",
   "metadata": {},
   "outputs": [
    {
     "data": {
      "text/plain": [
       "array([ 25,  82, 133,  91, 122, 197, 107, 149,  45,  90,  53, 173, 158,\n",
       "        84,  51, 193,  41,  92,  43,  55, 136, 174, 183,  39,  80, 129,\n",
       "         0,  15, 188,  65,   7, 187, 110, 199,  17, 152, 160, 141,   4,\n",
       "       165, 140,  12,  75, 117,   5, 150, 121,  62,  33, 125, 102, 196,\n",
       "       137,  83,  87, 159,   3,  60, 186,  79, 161, 198, 124,  48, 166,\n",
       "       126, 175,  38, 154,  20,  23, 104,  99,  16,  69, 182,  47,  64,\n",
       "       131,  94, 103, 190, 100,  29, 191, 108,  34,   1,  86,  71, 134,\n",
       "       192,  95, 132,  89,  67,  26,  52, 146, 118,  28, 109,   9, 144,\n",
       "        46,  81,  49,  77,  42, 167,  21, 155, 189, 153, 112,  78, 138,\n",
       "       168,  13, 184, 195, 172,  24, 115,  40, 105,  37,  56, 148, 101,\n",
       "        35, 171,  85, 116,  59,  72,  66, 194, 170, 177,  58,  14,  88,\n",
       "        98,  30, 114,  32,  10, 113, 106,  76, 120,  63,  97, 157, 135,\n",
       "         6,  57, 127, 156,  11,  70, 178,  19,  36, 176,   2,  22,  73,\n",
       "       180, 151, 169, 163,  31, 139,  68, 164, 119, 143, 179,  96, 181,\n",
       "        93,  50, 185, 123,  44, 162,  54, 145,   8,  61,  18, 111, 130,\n",
       "       147,  27, 128, 142,  74])"
      ]
     },
     "execution_count": 9,
     "metadata": {},
     "output_type": "execute_result"
    }
   ],
   "source": [
    "lengths = []\n",
    "idx = 0\n",
    "while True:\n",
    "    #if idx%10 == 0: print(idx)\n",
    "    try:\n",
    "        _, ip = sample(base_attentions, input_ids, idx)\n",
    "        lengths.append(ip.shape[0])\n",
    "        idx += 1\n",
    "    except:\n",
    "        break\n",
    "order = np.argsort(lengths)\n",
    "order"
   ]
  },
  {
   "cell_type": "code",
   "execution_count": null,
   "id": "aa08704b",
   "metadata": {},
   "outputs": [],
   "source": []
  },
  {
   "cell_type": "code",
   "execution_count": 12,
   "id": "858ea352",
   "metadata": {},
   "outputs": [
    {
     "data": {
      "image/png": "[encoded data removed]",
      "text/plain": [
       "<Figure size 1080x504 with 2 Axes>"
      ]
     },
     "metadata": {},
     "output_type": "display_data"
    }
   ],
   "source": [
    "idx = 135\n",
    "layer, head = 12, 2\n",
    "ba, ip = sample(base_attentions, input_ids, idx)\n",
    "fa, ip = sample(coarse_attentions, input_ids, idx)\n",
    "tokens = tokenizer.convert_ids_to_tokens(ip)\n",
    "sns.set(font_scale=font_scale)\n",
    "plt.rcParams['figure.figsize'] = figure_size\n",
    "fig, axes = plt.subplots(1, 2)\n",
    "sns.heatmap(ba[layer-1, head-1], ax=axes[0], cmap=\"Blues\", xticklabels=tokens, yticklabels=tokens, cbar=cbar)\n",
    "axes[0].set_title('Pre-trained')\n",
    "sns.heatmap(fa[layer-1, head-1], ax=axes[1], cmap=\"Blues\", xticklabels=tokens, yticklabels=tokens, cbar=cbar)\n",
    "axes[1].set_title('Fine-tuned')\n",
    "plt.show()"
   ]
  },
  {
   "cell_type": "code",
   "execution_count": null,
   "id": "b5149ffa",
   "metadata": {},
   "outputs": [],
   "source": []
  }
 ],
 "metadata": {
  "interpreter": {
   "hash": "2e7d90f60a8b628b70394d2a2332723d4e001ac85fbb52530832d6774e8389f6"
  },
  "kernelspec": {
   "display_name": "Python [conda env:venv3.8] *",
   "language": "python",
   "name": "python3"
  },
  "language_info": {
   "codemirror_mode": {
    "name": "ipython",
    "version": 3
   },
   "file_extension": ".py",
   "mimetype": "text/x-python",
   "name": "python",
   "nbconvert_exporter": "python",
   "pygments_lexer": "ipython3",
   "version": "3.8.13"
  }
 },
 "nbformat": 4,
 "nbformat_minor": 5
}
